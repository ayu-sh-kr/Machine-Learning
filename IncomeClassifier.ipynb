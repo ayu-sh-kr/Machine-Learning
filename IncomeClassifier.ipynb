{
 "cells": [
  {
   "cell_type": "markdown",
   "source": [
    "# Importing libraries to work with"
   ],
   "metadata": {
    "collapsed": false,
    "pycharm": {
     "name": "#%% md\n"
    }
   }
  },
  {
   "cell_type": "code",
   "execution_count": 1,
   "metadata": {
    "collapsed": true,
    "pycharm": {
     "name": "#%%\n"
    }
   },
   "outputs": [],
   "source": [
    "import pandas as pd\n",
    "import numpy as np\n",
    "import matplotlib.pyplot as plt\n",
    "import seaborn as sns\n",
    "from sklearn.model_selection import train_test_split\n",
    "from sklearn.linear_model import LogisticRegression\n",
    "from sklearn.metrics import accuracy_score, confusion_matrix"
   ]
  },
  {
   "cell_type": "markdown",
   "source": [
    "# Loading data files"
   ],
   "metadata": {
    "collapsed": false,
    "pycharm": {
     "name": "#%% md\n"
    }
   }
  },
  {
   "cell_type": "code",
   "execution_count": 2,
   "outputs": [
    {
     "data": {
      "text/plain": "       age       JobType         EdType        maritalstatus  \\\n0       45       Private        HS-grad             Divorced   \n1       24   Federal-gov        HS-grad        Never-married   \n2       44       Private   Some-college   Married-civ-spouse   \n3       27       Private            9th        Never-married   \n4       20       Private   Some-college        Never-married   \n...    ...           ...            ...                  ...   \n31973   34     Local-gov        HS-grad        Never-married   \n31974   34     Local-gov   Some-college        Never-married   \n31975   23       Private   Some-college   Married-civ-spouse   \n31976   42     Local-gov   Some-college   Married-civ-spouse   \n31977   29       Private      Bachelors        Never-married   \n\n             occupation     relationship    race   gender  capitalgain  \\\n0          Adm-clerical    Not-in-family   White   Female            0   \n1          Armed-Forces        Own-child   White     Male            0   \n2        Prof-specialty          Husband   White     Male            0   \n3          Craft-repair   Other-relative   White     Male            0   \n4                 Sales    Not-in-family   White     Male            0   \n...                 ...              ...     ...      ...          ...   \n31973   Farming-fishing    Not-in-family   Black     Male          594   \n31974   Protective-serv    Not-in-family   White   Female            0   \n31975      Adm-clerical          Husband   White     Male            0   \n31976      Adm-clerical             Wife   White   Female            0   \n31977    Prof-specialty    Not-in-family   White     Male            0   \n\n       capitalloss  hoursperweek   nativecountry  \\\n0                0            28   United-States   \n1                0            40   United-States   \n2                0            40   United-States   \n3                0            40          Mexico   \n4                0            35   United-States   \n...            ...           ...             ...   \n31973            0            60   United-States   \n31974            0            40   United-States   \n31975            0            40   United-States   \n31976            0            40   United-States   \n31977            0            40   United-States   \n\n                             SalStat  \n0       less than or equal to 50,000  \n1       less than or equal to 50,000  \n2                greater than 50,000  \n3       less than or equal to 50,000  \n4       less than or equal to 50,000  \n...                              ...  \n31973   less than or equal to 50,000  \n31974   less than or equal to 50,000  \n31975   less than or equal to 50,000  \n31976   less than or equal to 50,000  \n31977   less than or equal to 50,000  \n\n[31978 rows x 13 columns]",
      "text/html": "<div>\n<style scoped>\n    .dataframe tbody tr th:only-of-type {\n        vertical-align: middle;\n    }\n\n    .dataframe tbody tr th {\n        vertical-align: top;\n    }\n\n    .dataframe thead th {\n        text-align: right;\n    }\n</style>\n<table border=\"1\" class=\"dataframe\">\n  <thead>\n    <tr style=\"text-align: right;\">\n      <th></th>\n      <th>age</th>\n      <th>JobType</th>\n      <th>EdType</th>\n      <th>maritalstatus</th>\n      <th>occupation</th>\n      <th>relationship</th>\n      <th>race</th>\n      <th>gender</th>\n      <th>capitalgain</th>\n      <th>capitalloss</th>\n      <th>hoursperweek</th>\n      <th>nativecountry</th>\n      <th>SalStat</th>\n    </tr>\n  </thead>\n  <tbody>\n    <tr>\n      <th>0</th>\n      <td>45</td>\n      <td>Private</td>\n      <td>HS-grad</td>\n      <td>Divorced</td>\n      <td>Adm-clerical</td>\n      <td>Not-in-family</td>\n      <td>White</td>\n      <td>Female</td>\n      <td>0</td>\n      <td>0</td>\n      <td>28</td>\n      <td>United-States</td>\n      <td>less than or equal to 50,000</td>\n    </tr>\n    <tr>\n      <th>1</th>\n      <td>24</td>\n      <td>Federal-gov</td>\n      <td>HS-grad</td>\n      <td>Never-married</td>\n      <td>Armed-Forces</td>\n      <td>Own-child</td>\n      <td>White</td>\n      <td>Male</td>\n      <td>0</td>\n      <td>0</td>\n      <td>40</td>\n      <td>United-States</td>\n      <td>less than or equal to 50,000</td>\n    </tr>\n    <tr>\n      <th>2</th>\n      <td>44</td>\n      <td>Private</td>\n      <td>Some-college</td>\n      <td>Married-civ-spouse</td>\n      <td>Prof-specialty</td>\n      <td>Husband</td>\n      <td>White</td>\n      <td>Male</td>\n      <td>0</td>\n      <td>0</td>\n      <td>40</td>\n      <td>United-States</td>\n      <td>greater than 50,000</td>\n    </tr>\n    <tr>\n      <th>3</th>\n      <td>27</td>\n      <td>Private</td>\n      <td>9th</td>\n      <td>Never-married</td>\n      <td>Craft-repair</td>\n      <td>Other-relative</td>\n      <td>White</td>\n      <td>Male</td>\n      <td>0</td>\n      <td>0</td>\n      <td>40</td>\n      <td>Mexico</td>\n      <td>less than or equal to 50,000</td>\n    </tr>\n    <tr>\n      <th>4</th>\n      <td>20</td>\n      <td>Private</td>\n      <td>Some-college</td>\n      <td>Never-married</td>\n      <td>Sales</td>\n      <td>Not-in-family</td>\n      <td>White</td>\n      <td>Male</td>\n      <td>0</td>\n      <td>0</td>\n      <td>35</td>\n      <td>United-States</td>\n      <td>less than or equal to 50,000</td>\n    </tr>\n    <tr>\n      <th>...</th>\n      <td>...</td>\n      <td>...</td>\n      <td>...</td>\n      <td>...</td>\n      <td>...</td>\n      <td>...</td>\n      <td>...</td>\n      <td>...</td>\n      <td>...</td>\n      <td>...</td>\n      <td>...</td>\n      <td>...</td>\n      <td>...</td>\n    </tr>\n    <tr>\n      <th>31973</th>\n      <td>34</td>\n      <td>Local-gov</td>\n      <td>HS-grad</td>\n      <td>Never-married</td>\n      <td>Farming-fishing</td>\n      <td>Not-in-family</td>\n      <td>Black</td>\n      <td>Male</td>\n      <td>594</td>\n      <td>0</td>\n      <td>60</td>\n      <td>United-States</td>\n      <td>less than or equal to 50,000</td>\n    </tr>\n    <tr>\n      <th>31974</th>\n      <td>34</td>\n      <td>Local-gov</td>\n      <td>Some-college</td>\n      <td>Never-married</td>\n      <td>Protective-serv</td>\n      <td>Not-in-family</td>\n      <td>White</td>\n      <td>Female</td>\n      <td>0</td>\n      <td>0</td>\n      <td>40</td>\n      <td>United-States</td>\n      <td>less than or equal to 50,000</td>\n    </tr>\n    <tr>\n      <th>31975</th>\n      <td>23</td>\n      <td>Private</td>\n      <td>Some-college</td>\n      <td>Married-civ-spouse</td>\n      <td>Adm-clerical</td>\n      <td>Husband</td>\n      <td>White</td>\n      <td>Male</td>\n      <td>0</td>\n      <td>0</td>\n      <td>40</td>\n      <td>United-States</td>\n      <td>less than or equal to 50,000</td>\n    </tr>\n    <tr>\n      <th>31976</th>\n      <td>42</td>\n      <td>Local-gov</td>\n      <td>Some-college</td>\n      <td>Married-civ-spouse</td>\n      <td>Adm-clerical</td>\n      <td>Wife</td>\n      <td>White</td>\n      <td>Female</td>\n      <td>0</td>\n      <td>0</td>\n      <td>40</td>\n      <td>United-States</td>\n      <td>less than or equal to 50,000</td>\n    </tr>\n    <tr>\n      <th>31977</th>\n      <td>29</td>\n      <td>Private</td>\n      <td>Bachelors</td>\n      <td>Never-married</td>\n      <td>Prof-specialty</td>\n      <td>Not-in-family</td>\n      <td>White</td>\n      <td>Male</td>\n      <td>0</td>\n      <td>0</td>\n      <td>40</td>\n      <td>United-States</td>\n      <td>less than or equal to 50,000</td>\n    </tr>\n  </tbody>\n</table>\n<p>31978 rows × 13 columns</p>\n</div>"
     },
     "execution_count": 2,
     "metadata": {},
     "output_type": "execute_result"
    }
   ],
   "source": [
    "data_income = pd.read_csv('income(1).csv')\n",
    "data = data_income.copy()\n",
    "data"
   ],
   "metadata": {
    "collapsed": false,
    "pycharm": {
     "name": "#%%\n"
    }
   }
  },
  {
   "cell_type": "markdown",
   "source": [
    "# Getting data information"
   ],
   "metadata": {
    "collapsed": false,
    "pycharm": {
     "name": "#%% md\n"
    }
   }
  },
  {
   "cell_type": "code",
   "execution_count": 3,
   "outputs": [
    {
     "name": "stdout",
     "output_type": "stream",
     "text": [
      "<class 'pandas.core.frame.DataFrame'>\n",
      "RangeIndex: 31978 entries, 0 to 31977\n",
      "Data columns (total 13 columns):\n",
      " #   Column         Non-Null Count  Dtype \n",
      "---  ------         --------------  ----- \n",
      " 0   age            31978 non-null  int64 \n",
      " 1   JobType        31978 non-null  object\n",
      " 2   EdType         31978 non-null  object\n",
      " 3   maritalstatus  31978 non-null  object\n",
      " 4   occupation     31978 non-null  object\n",
      " 5   relationship   31978 non-null  object\n",
      " 6   race           31978 non-null  object\n",
      " 7   gender         31978 non-null  object\n",
      " 8   capitalgain    31978 non-null  int64 \n",
      " 9   capitalloss    31978 non-null  int64 \n",
      " 10  hoursperweek   31978 non-null  int64 \n",
      " 11  nativecountry  31978 non-null  object\n",
      " 12  SalStat        31978 non-null  object\n",
      "dtypes: int64(4), object(9)\n",
      "memory usage: 3.2+ MB\n"
     ]
    }
   ],
   "source": [
    "data.info()"
   ],
   "metadata": {
    "collapsed": false,
    "pycharm": {
     "name": "#%%\n"
    }
   }
  },
  {
   "cell_type": "markdown",
   "source": [
    "# Checking for null values"
   ],
   "metadata": {
    "collapsed": false,
    "pycharm": {
     "name": "#%% md\n"
    }
   }
  },
  {
   "cell_type": "code",
   "execution_count": 4,
   "outputs": [
    {
     "data": {
      "text/plain": "age              0\nJobType          0\nEdType           0\nmaritalstatus    0\noccupation       0\nrelationship     0\nrace             0\ngender           0\ncapitalgain      0\ncapitalloss      0\nhoursperweek     0\nnativecountry    0\nSalStat          0\ndtype: int64"
     },
     "execution_count": 4,
     "metadata": {},
     "output_type": "execute_result"
    }
   ],
   "source": [
    "data.isnull().sum()"
   ],
   "metadata": {
    "collapsed": false,
    "pycharm": {
     "name": "#%%\n"
    }
   }
  },
  {
   "cell_type": "markdown",
   "source": [
    "# Getting Descriptive Summary"
   ],
   "metadata": {
    "collapsed": false,
    "pycharm": {
     "name": "#%% md\n"
    }
   }
  },
  {
   "cell_type": "code",
   "execution_count": 5,
   "outputs": [
    {
     "data": {
      "text/plain": "                age   capitalgain   capitalloss  hoursperweek\ncount  31978.000000  31978.000000  31978.000000  31978.000000\nmean      38.579023   1064.360623     86.739352     40.417850\nstd       13.662085   7298.596271    401.594301     12.345285\nmin       17.000000      0.000000      0.000000      1.000000\n25%       28.000000      0.000000      0.000000     40.000000\n50%       37.000000      0.000000      0.000000     40.000000\n75%       48.000000      0.000000      0.000000     45.000000\nmax       90.000000  99999.000000   4356.000000     99.000000",
      "text/html": "<div>\n<style scoped>\n    .dataframe tbody tr th:only-of-type {\n        vertical-align: middle;\n    }\n\n    .dataframe tbody tr th {\n        vertical-align: top;\n    }\n\n    .dataframe thead th {\n        text-align: right;\n    }\n</style>\n<table border=\"1\" class=\"dataframe\">\n  <thead>\n    <tr style=\"text-align: right;\">\n      <th></th>\n      <th>age</th>\n      <th>capitalgain</th>\n      <th>capitalloss</th>\n      <th>hoursperweek</th>\n    </tr>\n  </thead>\n  <tbody>\n    <tr>\n      <th>count</th>\n      <td>31978.000000</td>\n      <td>31978.000000</td>\n      <td>31978.000000</td>\n      <td>31978.000000</td>\n    </tr>\n    <tr>\n      <th>mean</th>\n      <td>38.579023</td>\n      <td>1064.360623</td>\n      <td>86.739352</td>\n      <td>40.417850</td>\n    </tr>\n    <tr>\n      <th>std</th>\n      <td>13.662085</td>\n      <td>7298.596271</td>\n      <td>401.594301</td>\n      <td>12.345285</td>\n    </tr>\n    <tr>\n      <th>min</th>\n      <td>17.000000</td>\n      <td>0.000000</td>\n      <td>0.000000</td>\n      <td>1.000000</td>\n    </tr>\n    <tr>\n      <th>25%</th>\n      <td>28.000000</td>\n      <td>0.000000</td>\n      <td>0.000000</td>\n      <td>40.000000</td>\n    </tr>\n    <tr>\n      <th>50%</th>\n      <td>37.000000</td>\n      <td>0.000000</td>\n      <td>0.000000</td>\n      <td>40.000000</td>\n    </tr>\n    <tr>\n      <th>75%</th>\n      <td>48.000000</td>\n      <td>0.000000</td>\n      <td>0.000000</td>\n      <td>45.000000</td>\n    </tr>\n    <tr>\n      <th>max</th>\n      <td>90.000000</td>\n      <td>99999.000000</td>\n      <td>4356.000000</td>\n      <td>99.000000</td>\n    </tr>\n  </tbody>\n</table>\n</div>"
     },
     "execution_count": 5,
     "metadata": {},
     "output_type": "execute_result"
    }
   ],
   "source": [
    "summary = data.describe()\n",
    "summary"
   ],
   "metadata": {
    "collapsed": false,
    "pycharm": {
     "name": "#%%\n"
    }
   }
  },
  {
   "cell_type": "markdown",
   "source": [
    "# Getting descriptive information of categorical data"
   ],
   "metadata": {
    "collapsed": false,
    "pycharm": {
     "name": "#%% md\n"
    }
   }
  },
  {
   "cell_type": "code",
   "execution_count": 6,
   "outputs": [
    {
     "data": {
      "text/plain": "         JobType    EdType        maritalstatus       occupation relationship  \\\ncount      31978     31978                31978            31978        31978   \nunique         9        16                    7               15            6   \ntop      Private   HS-grad   Married-civ-spouse   Prof-specialty      Husband   \nfreq       22286     10368                14692             4038        12947   \n\n          race gender   nativecountry                        SalStat  \ncount    31978  31978           31978                          31978  \nunique       5      2              41                              2  \ntop      White   Male   United-States   less than or equal to 50,000  \nfreq     27430  21370           29170                          24283  ",
      "text/html": "<div>\n<style scoped>\n    .dataframe tbody tr th:only-of-type {\n        vertical-align: middle;\n    }\n\n    .dataframe tbody tr th {\n        vertical-align: top;\n    }\n\n    .dataframe thead th {\n        text-align: right;\n    }\n</style>\n<table border=\"1\" class=\"dataframe\">\n  <thead>\n    <tr style=\"text-align: right;\">\n      <th></th>\n      <th>JobType</th>\n      <th>EdType</th>\n      <th>maritalstatus</th>\n      <th>occupation</th>\n      <th>relationship</th>\n      <th>race</th>\n      <th>gender</th>\n      <th>nativecountry</th>\n      <th>SalStat</th>\n    </tr>\n  </thead>\n  <tbody>\n    <tr>\n      <th>count</th>\n      <td>31978</td>\n      <td>31978</td>\n      <td>31978</td>\n      <td>31978</td>\n      <td>31978</td>\n      <td>31978</td>\n      <td>31978</td>\n      <td>31978</td>\n      <td>31978</td>\n    </tr>\n    <tr>\n      <th>unique</th>\n      <td>9</td>\n      <td>16</td>\n      <td>7</td>\n      <td>15</td>\n      <td>6</td>\n      <td>5</td>\n      <td>2</td>\n      <td>41</td>\n      <td>2</td>\n    </tr>\n    <tr>\n      <th>top</th>\n      <td>Private</td>\n      <td>HS-grad</td>\n      <td>Married-civ-spouse</td>\n      <td>Prof-specialty</td>\n      <td>Husband</td>\n      <td>White</td>\n      <td>Male</td>\n      <td>United-States</td>\n      <td>less than or equal to 50,000</td>\n    </tr>\n    <tr>\n      <th>freq</th>\n      <td>22286</td>\n      <td>10368</td>\n      <td>14692</td>\n      <td>4038</td>\n      <td>12947</td>\n      <td>27430</td>\n      <td>21370</td>\n      <td>29170</td>\n      <td>24283</td>\n    </tr>\n  </tbody>\n</table>\n</div>"
     },
     "execution_count": 6,
     "metadata": {},
     "output_type": "execute_result"
    }
   ],
   "source": [
    "summary_cate = data.describe(include=\"object\", exclude=[\"int64\", \"float64\"])\n",
    "summary_cate"
   ],
   "metadata": {
    "collapsed": false,
    "pycharm": {
     "name": "#%%\n"
    }
   }
  },
  {
   "cell_type": "markdown",
   "source": [
    "# Frequency of Each Category"
   ],
   "metadata": {
    "collapsed": false,
    "pycharm": {
     "name": "#%% md\n"
    }
   }
  },
  {
   "cell_type": "code",
   "execution_count": 7,
   "outputs": [
    {
     "data": {
      "text/plain": " Private             22286\n Self-emp-not-inc     2499\n Local-gov            2067\n ?                    1809\n State-gov            1279\n Self-emp-inc         1074\n Federal-gov           943\n Without-pay            14\n Never-worked            7\nName: JobType, dtype: int64"
     },
     "execution_count": 7,
     "metadata": {},
     "output_type": "execute_result"
    }
   ],
   "source": [
    "data['JobType'].value_counts()"
   ],
   "metadata": {
    "collapsed": false,
    "pycharm": {
     "name": "#%%\n"
    }
   }
  },
  {
   "cell_type": "code",
   "execution_count": 8,
   "outputs": [
    {
     "data": {
      "text/plain": " Prof-specialty       4038\n Craft-repair         4030\n Exec-managerial      3992\n Adm-clerical         3721\n Sales                3584\n Other-service        3212\n Machine-op-inspct    1966\n ?                    1816\n Transport-moving     1572\n Handlers-cleaners    1350\n Farming-fishing       989\n Tech-support          912\n Protective-serv       644\n Priv-house-serv       143\n Armed-Forces            9\nName: occupation, dtype: int64"
     },
     "execution_count": 8,
     "metadata": {},
     "output_type": "execute_result"
    }
   ],
   "source": [
    "data['occupation'].value_counts()"
   ],
   "metadata": {
    "collapsed": false,
    "pycharm": {
     "name": "#%%\n"
    }
   }
  },
  {
   "cell_type": "markdown",
   "source": [
    "# checking for unique classes"
   ],
   "metadata": {
    "collapsed": false,
    "pycharm": {
     "name": "#%% md\n"
    }
   }
  },
  {
   "cell_type": "code",
   "execution_count": 9,
   "outputs": [
    {
     "data": {
      "text/plain": "array([' ?', ' Federal-gov', ' Local-gov', ' Never-worked', ' Private',\n       ' Self-emp-inc', ' Self-emp-not-inc', ' State-gov', ' Without-pay'],\n      dtype=object)"
     },
     "execution_count": 9,
     "metadata": {},
     "output_type": "execute_result"
    }
   ],
   "source": [
    "np.unique(data['JobType'])"
   ],
   "metadata": {
    "collapsed": false,
    "pycharm": {
     "name": "#%%\n"
    }
   }
  },
  {
   "cell_type": "code",
   "execution_count": 10,
   "outputs": [
    {
     "data": {
      "text/plain": "array([' ?', ' Adm-clerical', ' Armed-Forces', ' Craft-repair',\n       ' Exec-managerial', ' Farming-fishing', ' Handlers-cleaners',\n       ' Machine-op-inspct', ' Other-service', ' Priv-house-serv',\n       ' Prof-specialty', ' Protective-serv', ' Sales', ' Tech-support',\n       ' Transport-moving'], dtype=object)"
     },
     "execution_count": 10,
     "metadata": {},
     "output_type": "execute_result"
    }
   ],
   "source": [
    "np.unique(data['occupation'])"
   ],
   "metadata": {
    "collapsed": false,
    "pycharm": {
     "name": "#%%\n"
    }
   }
  },
  {
   "cell_type": "markdown",
   "source": [
    "there data with na_values marked as special character we will change it to NaN while loading data"
   ],
   "metadata": {
    "collapsed": false,
    "pycharm": {
     "name": "#%% md\n"
    }
   }
  },
  {
   "cell_type": "code",
   "execution_count": 11,
   "outputs": [
    {
     "data": {
      "text/plain": "       age       JobType         EdType        maritalstatus  \\\n0       45       Private        HS-grad             Divorced   \n1       24   Federal-gov        HS-grad        Never-married   \n2       44       Private   Some-college   Married-civ-spouse   \n3       27       Private            9th        Never-married   \n4       20       Private   Some-college        Never-married   \n...    ...           ...            ...                  ...   \n31973   34     Local-gov        HS-grad        Never-married   \n31974   34     Local-gov   Some-college        Never-married   \n31975   23       Private   Some-college   Married-civ-spouse   \n31976   42     Local-gov   Some-college   Married-civ-spouse   \n31977   29       Private      Bachelors        Never-married   \n\n             occupation     relationship    race   gender  capitalgain  \\\n0          Adm-clerical    Not-in-family   White   Female            0   \n1          Armed-Forces        Own-child   White     Male            0   \n2        Prof-specialty          Husband   White     Male            0   \n3          Craft-repair   Other-relative   White     Male            0   \n4                 Sales    Not-in-family   White     Male            0   \n...                 ...              ...     ...      ...          ...   \n31973   Farming-fishing    Not-in-family   Black     Male          594   \n31974   Protective-serv    Not-in-family   White   Female            0   \n31975      Adm-clerical          Husband   White     Male            0   \n31976      Adm-clerical             Wife   White   Female            0   \n31977    Prof-specialty    Not-in-family   White     Male            0   \n\n       capitalloss  hoursperweek   nativecountry  \\\n0                0            28   United-States   \n1                0            40   United-States   \n2                0            40   United-States   \n3                0            40          Mexico   \n4                0            35   United-States   \n...            ...           ...             ...   \n31973            0            60   United-States   \n31974            0            40   United-States   \n31975            0            40   United-States   \n31976            0            40   United-States   \n31977            0            40   United-States   \n\n                             SalStat  \n0       less than or equal to 50,000  \n1       less than or equal to 50,000  \n2                greater than 50,000  \n3       less than or equal to 50,000  \n4       less than or equal to 50,000  \n...                              ...  \n31973   less than or equal to 50,000  \n31974   less than or equal to 50,000  \n31975   less than or equal to 50,000  \n31976   less than or equal to 50,000  \n31977   less than or equal to 50,000  \n\n[31978 rows x 13 columns]",
      "text/html": "<div>\n<style scoped>\n    .dataframe tbody tr th:only-of-type {\n        vertical-align: middle;\n    }\n\n    .dataframe tbody tr th {\n        vertical-align: top;\n    }\n\n    .dataframe thead th {\n        text-align: right;\n    }\n</style>\n<table border=\"1\" class=\"dataframe\">\n  <thead>\n    <tr style=\"text-align: right;\">\n      <th></th>\n      <th>age</th>\n      <th>JobType</th>\n      <th>EdType</th>\n      <th>maritalstatus</th>\n      <th>occupation</th>\n      <th>relationship</th>\n      <th>race</th>\n      <th>gender</th>\n      <th>capitalgain</th>\n      <th>capitalloss</th>\n      <th>hoursperweek</th>\n      <th>nativecountry</th>\n      <th>SalStat</th>\n    </tr>\n  </thead>\n  <tbody>\n    <tr>\n      <th>0</th>\n      <td>45</td>\n      <td>Private</td>\n      <td>HS-grad</td>\n      <td>Divorced</td>\n      <td>Adm-clerical</td>\n      <td>Not-in-family</td>\n      <td>White</td>\n      <td>Female</td>\n      <td>0</td>\n      <td>0</td>\n      <td>28</td>\n      <td>United-States</td>\n      <td>less than or equal to 50,000</td>\n    </tr>\n    <tr>\n      <th>1</th>\n      <td>24</td>\n      <td>Federal-gov</td>\n      <td>HS-grad</td>\n      <td>Never-married</td>\n      <td>Armed-Forces</td>\n      <td>Own-child</td>\n      <td>White</td>\n      <td>Male</td>\n      <td>0</td>\n      <td>0</td>\n      <td>40</td>\n      <td>United-States</td>\n      <td>less than or equal to 50,000</td>\n    </tr>\n    <tr>\n      <th>2</th>\n      <td>44</td>\n      <td>Private</td>\n      <td>Some-college</td>\n      <td>Married-civ-spouse</td>\n      <td>Prof-specialty</td>\n      <td>Husband</td>\n      <td>White</td>\n      <td>Male</td>\n      <td>0</td>\n      <td>0</td>\n      <td>40</td>\n      <td>United-States</td>\n      <td>greater than 50,000</td>\n    </tr>\n    <tr>\n      <th>3</th>\n      <td>27</td>\n      <td>Private</td>\n      <td>9th</td>\n      <td>Never-married</td>\n      <td>Craft-repair</td>\n      <td>Other-relative</td>\n      <td>White</td>\n      <td>Male</td>\n      <td>0</td>\n      <td>0</td>\n      <td>40</td>\n      <td>Mexico</td>\n      <td>less than or equal to 50,000</td>\n    </tr>\n    <tr>\n      <th>4</th>\n      <td>20</td>\n      <td>Private</td>\n      <td>Some-college</td>\n      <td>Never-married</td>\n      <td>Sales</td>\n      <td>Not-in-family</td>\n      <td>White</td>\n      <td>Male</td>\n      <td>0</td>\n      <td>0</td>\n      <td>35</td>\n      <td>United-States</td>\n      <td>less than or equal to 50,000</td>\n    </tr>\n    <tr>\n      <th>...</th>\n      <td>...</td>\n      <td>...</td>\n      <td>...</td>\n      <td>...</td>\n      <td>...</td>\n      <td>...</td>\n      <td>...</td>\n      <td>...</td>\n      <td>...</td>\n      <td>...</td>\n      <td>...</td>\n      <td>...</td>\n      <td>...</td>\n    </tr>\n    <tr>\n      <th>31973</th>\n      <td>34</td>\n      <td>Local-gov</td>\n      <td>HS-grad</td>\n      <td>Never-married</td>\n      <td>Farming-fishing</td>\n      <td>Not-in-family</td>\n      <td>Black</td>\n      <td>Male</td>\n      <td>594</td>\n      <td>0</td>\n      <td>60</td>\n      <td>United-States</td>\n      <td>less than or equal to 50,000</td>\n    </tr>\n    <tr>\n      <th>31974</th>\n      <td>34</td>\n      <td>Local-gov</td>\n      <td>Some-college</td>\n      <td>Never-married</td>\n      <td>Protective-serv</td>\n      <td>Not-in-family</td>\n      <td>White</td>\n      <td>Female</td>\n      <td>0</td>\n      <td>0</td>\n      <td>40</td>\n      <td>United-States</td>\n      <td>less than or equal to 50,000</td>\n    </tr>\n    <tr>\n      <th>31975</th>\n      <td>23</td>\n      <td>Private</td>\n      <td>Some-college</td>\n      <td>Married-civ-spouse</td>\n      <td>Adm-clerical</td>\n      <td>Husband</td>\n      <td>White</td>\n      <td>Male</td>\n      <td>0</td>\n      <td>0</td>\n      <td>40</td>\n      <td>United-States</td>\n      <td>less than or equal to 50,000</td>\n    </tr>\n    <tr>\n      <th>31976</th>\n      <td>42</td>\n      <td>Local-gov</td>\n      <td>Some-college</td>\n      <td>Married-civ-spouse</td>\n      <td>Adm-clerical</td>\n      <td>Wife</td>\n      <td>White</td>\n      <td>Female</td>\n      <td>0</td>\n      <td>0</td>\n      <td>40</td>\n      <td>United-States</td>\n      <td>less than or equal to 50,000</td>\n    </tr>\n    <tr>\n      <th>31977</th>\n      <td>29</td>\n      <td>Private</td>\n      <td>Bachelors</td>\n      <td>Never-married</td>\n      <td>Prof-specialty</td>\n      <td>Not-in-family</td>\n      <td>White</td>\n      <td>Male</td>\n      <td>0</td>\n      <td>0</td>\n      <td>40</td>\n      <td>United-States</td>\n      <td>less than or equal to 50,000</td>\n    </tr>\n  </tbody>\n</table>\n<p>31978 rows × 13 columns</p>\n</div>"
     },
     "execution_count": 11,
     "metadata": {},
     "output_type": "execute_result"
    }
   ],
   "source": [
    "data = pd.read_csv('income(1).csv', na_values=[\" ?\"])\n",
    "data"
   ],
   "metadata": {
    "collapsed": false,
    "pycharm": {
     "name": "#%%\n"
    }
   }
  },
  {
   "cell_type": "code",
   "execution_count": 12,
   "outputs": [
    {
     "data": {
      "text/plain": "age                 0\nJobType          1809\nEdType              0\nmaritalstatus       0\noccupation       1816\nrelationship        0\nrace                0\ngender              0\ncapitalgain         0\ncapitalloss         0\nhoursperweek        0\nnativecountry       0\nSalStat             0\ndtype: int64"
     },
     "execution_count": 12,
     "metadata": {},
     "output_type": "execute_result"
    }
   ],
   "source": [
    "data.isnull().sum()"
   ],
   "metadata": {
    "collapsed": false,
    "pycharm": {
     "name": "#%%\n"
    }
   }
  },
  {
   "cell_type": "code",
   "execution_count": 13,
   "outputs": [
    {
     "data": {
      "text/plain": "       age JobType         EdType        maritalstatus occupation  \\\n8       17     NaN           11th        Never-married        NaN   \n17      32     NaN   Some-college   Married-civ-spouse        NaN   \n29      22     NaN   Some-college        Never-married        NaN   \n42      52     NaN           12th        Never-married        NaN   \n44      63     NaN        1st-4th   Married-civ-spouse        NaN   \n...    ...     ...            ...                  ...        ...   \n31892   59     NaN      Bachelors   Married-civ-spouse        NaN   \n31934   20     NaN        HS-grad        Never-married        NaN   \n31945   28     NaN   Some-college   Married-civ-spouse        NaN   \n31967   80     NaN        HS-grad              Widowed        NaN   \n31968   17     NaN           11th        Never-married        NaN   \n\n          relationship    race   gender  capitalgain  capitalloss  \\\n8            Own-child   White   Female            0            0   \n17             Husband   White     Male            0            0   \n29           Own-child   White     Male            0            0   \n42      Other-relative   Black     Male          594            0   \n44             Husband   White     Male            0            0   \n...                ...     ...      ...          ...          ...   \n31892          Husband   White     Male            0            0   \n31934   Other-relative   White   Female            0            0   \n31945             Wife   White   Female            0         1887   \n31967    Not-in-family   White     Male            0            0   \n31968        Own-child   White     Male            0            0   \n\n       hoursperweek   nativecountry                        SalStat  \n8                 5   United-States   less than or equal to 50,000  \n17               40   United-States   less than or equal to 50,000  \n29               40   United-States   less than or equal to 50,000  \n42               40   United-States   less than or equal to 50,000  \n44               35   United-States   less than or equal to 50,000  \n...             ...             ...                            ...  \n31892            40   United-States            greater than 50,000  \n31934            35   United-States   less than or equal to 50,000  \n31945            40   United-States            greater than 50,000  \n31967            24   United-States   less than or equal to 50,000  \n31968            40   United-States   less than or equal to 50,000  \n\n[1816 rows x 13 columns]",
      "text/html": "<div>\n<style scoped>\n    .dataframe tbody tr th:only-of-type {\n        vertical-align: middle;\n    }\n\n    .dataframe tbody tr th {\n        vertical-align: top;\n    }\n\n    .dataframe thead th {\n        text-align: right;\n    }\n</style>\n<table border=\"1\" class=\"dataframe\">\n  <thead>\n    <tr style=\"text-align: right;\">\n      <th></th>\n      <th>age</th>\n      <th>JobType</th>\n      <th>EdType</th>\n      <th>maritalstatus</th>\n      <th>occupation</th>\n      <th>relationship</th>\n      <th>race</th>\n      <th>gender</th>\n      <th>capitalgain</th>\n      <th>capitalloss</th>\n      <th>hoursperweek</th>\n      <th>nativecountry</th>\n      <th>SalStat</th>\n    </tr>\n  </thead>\n  <tbody>\n    <tr>\n      <th>8</th>\n      <td>17</td>\n      <td>NaN</td>\n      <td>11th</td>\n      <td>Never-married</td>\n      <td>NaN</td>\n      <td>Own-child</td>\n      <td>White</td>\n      <td>Female</td>\n      <td>0</td>\n      <td>0</td>\n      <td>5</td>\n      <td>United-States</td>\n      <td>less than or equal to 50,000</td>\n    </tr>\n    <tr>\n      <th>17</th>\n      <td>32</td>\n      <td>NaN</td>\n      <td>Some-college</td>\n      <td>Married-civ-spouse</td>\n      <td>NaN</td>\n      <td>Husband</td>\n      <td>White</td>\n      <td>Male</td>\n      <td>0</td>\n      <td>0</td>\n      <td>40</td>\n      <td>United-States</td>\n      <td>less than or equal to 50,000</td>\n    </tr>\n    <tr>\n      <th>29</th>\n      <td>22</td>\n      <td>NaN</td>\n      <td>Some-college</td>\n      <td>Never-married</td>\n      <td>NaN</td>\n      <td>Own-child</td>\n      <td>White</td>\n      <td>Male</td>\n      <td>0</td>\n      <td>0</td>\n      <td>40</td>\n      <td>United-States</td>\n      <td>less than or equal to 50,000</td>\n    </tr>\n    <tr>\n      <th>42</th>\n      <td>52</td>\n      <td>NaN</td>\n      <td>12th</td>\n      <td>Never-married</td>\n      <td>NaN</td>\n      <td>Other-relative</td>\n      <td>Black</td>\n      <td>Male</td>\n      <td>594</td>\n      <td>0</td>\n      <td>40</td>\n      <td>United-States</td>\n      <td>less than or equal to 50,000</td>\n    </tr>\n    <tr>\n      <th>44</th>\n      <td>63</td>\n      <td>NaN</td>\n      <td>1st-4th</td>\n      <td>Married-civ-spouse</td>\n      <td>NaN</td>\n      <td>Husband</td>\n      <td>White</td>\n      <td>Male</td>\n      <td>0</td>\n      <td>0</td>\n      <td>35</td>\n      <td>United-States</td>\n      <td>less than or equal to 50,000</td>\n    </tr>\n    <tr>\n      <th>...</th>\n      <td>...</td>\n      <td>...</td>\n      <td>...</td>\n      <td>...</td>\n      <td>...</td>\n      <td>...</td>\n      <td>...</td>\n      <td>...</td>\n      <td>...</td>\n      <td>...</td>\n      <td>...</td>\n      <td>...</td>\n      <td>...</td>\n    </tr>\n    <tr>\n      <th>31892</th>\n      <td>59</td>\n      <td>NaN</td>\n      <td>Bachelors</td>\n      <td>Married-civ-spouse</td>\n      <td>NaN</td>\n      <td>Husband</td>\n      <td>White</td>\n      <td>Male</td>\n      <td>0</td>\n      <td>0</td>\n      <td>40</td>\n      <td>United-States</td>\n      <td>greater than 50,000</td>\n    </tr>\n    <tr>\n      <th>31934</th>\n      <td>20</td>\n      <td>NaN</td>\n      <td>HS-grad</td>\n      <td>Never-married</td>\n      <td>NaN</td>\n      <td>Other-relative</td>\n      <td>White</td>\n      <td>Female</td>\n      <td>0</td>\n      <td>0</td>\n      <td>35</td>\n      <td>United-States</td>\n      <td>less than or equal to 50,000</td>\n    </tr>\n    <tr>\n      <th>31945</th>\n      <td>28</td>\n      <td>NaN</td>\n      <td>Some-college</td>\n      <td>Married-civ-spouse</td>\n      <td>NaN</td>\n      <td>Wife</td>\n      <td>White</td>\n      <td>Female</td>\n      <td>0</td>\n      <td>1887</td>\n      <td>40</td>\n      <td>United-States</td>\n      <td>greater than 50,000</td>\n    </tr>\n    <tr>\n      <th>31967</th>\n      <td>80</td>\n      <td>NaN</td>\n      <td>HS-grad</td>\n      <td>Widowed</td>\n      <td>NaN</td>\n      <td>Not-in-family</td>\n      <td>White</td>\n      <td>Male</td>\n      <td>0</td>\n      <td>0</td>\n      <td>24</td>\n      <td>United-States</td>\n      <td>less than or equal to 50,000</td>\n    </tr>\n    <tr>\n      <th>31968</th>\n      <td>17</td>\n      <td>NaN</td>\n      <td>11th</td>\n      <td>Never-married</td>\n      <td>NaN</td>\n      <td>Own-child</td>\n      <td>White</td>\n      <td>Male</td>\n      <td>0</td>\n      <td>0</td>\n      <td>40</td>\n      <td>United-States</td>\n      <td>less than or equal to 50,000</td>\n    </tr>\n  </tbody>\n</table>\n<p>1816 rows × 13 columns</p>\n</div>"
     },
     "execution_count": 13,
     "metadata": {},
     "output_type": "execute_result"
    }
   ],
   "source": [
    "missing = data[data.isnull().any(axis=1)]\n",
    "missing"
   ],
   "metadata": {
    "collapsed": false,
    "pycharm": {
     "name": "#%%\n"
    }
   }
  },
  {
   "cell_type": "code",
   "execution_count": 14,
   "outputs": [
    {
     "data": {
      "text/plain": "       age       JobType         EdType        maritalstatus  \\\n0       45       Private        HS-grad             Divorced   \n1       24   Federal-gov        HS-grad        Never-married   \n2       44       Private   Some-college   Married-civ-spouse   \n3       27       Private            9th        Never-married   \n4       20       Private   Some-college        Never-married   \n...    ...           ...            ...                  ...   \n31973   34     Local-gov        HS-grad        Never-married   \n31974   34     Local-gov   Some-college        Never-married   \n31975   23       Private   Some-college   Married-civ-spouse   \n31976   42     Local-gov   Some-college   Married-civ-spouse   \n31977   29       Private      Bachelors        Never-married   \n\n             occupation     relationship    race   gender  capitalgain  \\\n0          Adm-clerical    Not-in-family   White   Female            0   \n1          Armed-Forces        Own-child   White     Male            0   \n2        Prof-specialty          Husband   White     Male            0   \n3          Craft-repair   Other-relative   White     Male            0   \n4                 Sales    Not-in-family   White     Male            0   \n...                 ...              ...     ...      ...          ...   \n31973   Farming-fishing    Not-in-family   Black     Male          594   \n31974   Protective-serv    Not-in-family   White   Female            0   \n31975      Adm-clerical          Husband   White     Male            0   \n31976      Adm-clerical             Wife   White   Female            0   \n31977    Prof-specialty    Not-in-family   White     Male            0   \n\n       capitalloss  hoursperweek   nativecountry  \\\n0                0            28   United-States   \n1                0            40   United-States   \n2                0            40   United-States   \n3                0            40          Mexico   \n4                0            35   United-States   \n...            ...           ...             ...   \n31973            0            60   United-States   \n31974            0            40   United-States   \n31975            0            40   United-States   \n31976            0            40   United-States   \n31977            0            40   United-States   \n\n                             SalStat  \n0       less than or equal to 50,000  \n1       less than or equal to 50,000  \n2                greater than 50,000  \n3       less than or equal to 50,000  \n4       less than or equal to 50,000  \n...                              ...  \n31973   less than or equal to 50,000  \n31974   less than or equal to 50,000  \n31975   less than or equal to 50,000  \n31976   less than or equal to 50,000  \n31977   less than or equal to 50,000  \n\n[30162 rows x 13 columns]",
      "text/html": "<div>\n<style scoped>\n    .dataframe tbody tr th:only-of-type {\n        vertical-align: middle;\n    }\n\n    .dataframe tbody tr th {\n        vertical-align: top;\n    }\n\n    .dataframe thead th {\n        text-align: right;\n    }\n</style>\n<table border=\"1\" class=\"dataframe\">\n  <thead>\n    <tr style=\"text-align: right;\">\n      <th></th>\n      <th>age</th>\n      <th>JobType</th>\n      <th>EdType</th>\n      <th>maritalstatus</th>\n      <th>occupation</th>\n      <th>relationship</th>\n      <th>race</th>\n      <th>gender</th>\n      <th>capitalgain</th>\n      <th>capitalloss</th>\n      <th>hoursperweek</th>\n      <th>nativecountry</th>\n      <th>SalStat</th>\n    </tr>\n  </thead>\n  <tbody>\n    <tr>\n      <th>0</th>\n      <td>45</td>\n      <td>Private</td>\n      <td>HS-grad</td>\n      <td>Divorced</td>\n      <td>Adm-clerical</td>\n      <td>Not-in-family</td>\n      <td>White</td>\n      <td>Female</td>\n      <td>0</td>\n      <td>0</td>\n      <td>28</td>\n      <td>United-States</td>\n      <td>less than or equal to 50,000</td>\n    </tr>\n    <tr>\n      <th>1</th>\n      <td>24</td>\n      <td>Federal-gov</td>\n      <td>HS-grad</td>\n      <td>Never-married</td>\n      <td>Armed-Forces</td>\n      <td>Own-child</td>\n      <td>White</td>\n      <td>Male</td>\n      <td>0</td>\n      <td>0</td>\n      <td>40</td>\n      <td>United-States</td>\n      <td>less than or equal to 50,000</td>\n    </tr>\n    <tr>\n      <th>2</th>\n      <td>44</td>\n      <td>Private</td>\n      <td>Some-college</td>\n      <td>Married-civ-spouse</td>\n      <td>Prof-specialty</td>\n      <td>Husband</td>\n      <td>White</td>\n      <td>Male</td>\n      <td>0</td>\n      <td>0</td>\n      <td>40</td>\n      <td>United-States</td>\n      <td>greater than 50,000</td>\n    </tr>\n    <tr>\n      <th>3</th>\n      <td>27</td>\n      <td>Private</td>\n      <td>9th</td>\n      <td>Never-married</td>\n      <td>Craft-repair</td>\n      <td>Other-relative</td>\n      <td>White</td>\n      <td>Male</td>\n      <td>0</td>\n      <td>0</td>\n      <td>40</td>\n      <td>Mexico</td>\n      <td>less than or equal to 50,000</td>\n    </tr>\n    <tr>\n      <th>4</th>\n      <td>20</td>\n      <td>Private</td>\n      <td>Some-college</td>\n      <td>Never-married</td>\n      <td>Sales</td>\n      <td>Not-in-family</td>\n      <td>White</td>\n      <td>Male</td>\n      <td>0</td>\n      <td>0</td>\n      <td>35</td>\n      <td>United-States</td>\n      <td>less than or equal to 50,000</td>\n    </tr>\n    <tr>\n      <th>...</th>\n      <td>...</td>\n      <td>...</td>\n      <td>...</td>\n      <td>...</td>\n      <td>...</td>\n      <td>...</td>\n      <td>...</td>\n      <td>...</td>\n      <td>...</td>\n      <td>...</td>\n      <td>...</td>\n      <td>...</td>\n      <td>...</td>\n    </tr>\n    <tr>\n      <th>31973</th>\n      <td>34</td>\n      <td>Local-gov</td>\n      <td>HS-grad</td>\n      <td>Never-married</td>\n      <td>Farming-fishing</td>\n      <td>Not-in-family</td>\n      <td>Black</td>\n      <td>Male</td>\n      <td>594</td>\n      <td>0</td>\n      <td>60</td>\n      <td>United-States</td>\n      <td>less than or equal to 50,000</td>\n    </tr>\n    <tr>\n      <th>31974</th>\n      <td>34</td>\n      <td>Local-gov</td>\n      <td>Some-college</td>\n      <td>Never-married</td>\n      <td>Protective-serv</td>\n      <td>Not-in-family</td>\n      <td>White</td>\n      <td>Female</td>\n      <td>0</td>\n      <td>0</td>\n      <td>40</td>\n      <td>United-States</td>\n      <td>less than or equal to 50,000</td>\n    </tr>\n    <tr>\n      <th>31975</th>\n      <td>23</td>\n      <td>Private</td>\n      <td>Some-college</td>\n      <td>Married-civ-spouse</td>\n      <td>Adm-clerical</td>\n      <td>Husband</td>\n      <td>White</td>\n      <td>Male</td>\n      <td>0</td>\n      <td>0</td>\n      <td>40</td>\n      <td>United-States</td>\n      <td>less than or equal to 50,000</td>\n    </tr>\n    <tr>\n      <th>31976</th>\n      <td>42</td>\n      <td>Local-gov</td>\n      <td>Some-college</td>\n      <td>Married-civ-spouse</td>\n      <td>Adm-clerical</td>\n      <td>Wife</td>\n      <td>White</td>\n      <td>Female</td>\n      <td>0</td>\n      <td>0</td>\n      <td>40</td>\n      <td>United-States</td>\n      <td>less than or equal to 50,000</td>\n    </tr>\n    <tr>\n      <th>31977</th>\n      <td>29</td>\n      <td>Private</td>\n      <td>Bachelors</td>\n      <td>Never-married</td>\n      <td>Prof-specialty</td>\n      <td>Not-in-family</td>\n      <td>White</td>\n      <td>Male</td>\n      <td>0</td>\n      <td>0</td>\n      <td>40</td>\n      <td>United-States</td>\n      <td>less than or equal to 50,000</td>\n    </tr>\n  </tbody>\n</table>\n<p>30162 rows × 13 columns</p>\n</div>"
     },
     "execution_count": 14,
     "metadata": {},
     "output_type": "execute_result"
    }
   ],
   "source": [
    "data2 = data.dropna(axis=0)\n",
    "data2"
   ],
   "metadata": {
    "collapsed": false,
    "pycharm": {
     "name": "#%%\n"
    }
   }
  },
  {
   "cell_type": "code",
   "execution_count": 15,
   "outputs": [
    {
     "data": {
      "text/plain": "                   age  capitalgain  capitalloss  hoursperweek\nage           1.000000     0.080154     0.060165      0.101599\ncapitalgain   0.080154     1.000000    -0.032229      0.080432\ncapitalloss   0.060165    -0.032229     1.000000      0.052417\nhoursperweek  0.101599     0.080432     0.052417      1.000000",
      "text/html": "<div>\n<style scoped>\n    .dataframe tbody tr th:only-of-type {\n        vertical-align: middle;\n    }\n\n    .dataframe tbody tr th {\n        vertical-align: top;\n    }\n\n    .dataframe thead th {\n        text-align: right;\n    }\n</style>\n<table border=\"1\" class=\"dataframe\">\n  <thead>\n    <tr style=\"text-align: right;\">\n      <th></th>\n      <th>age</th>\n      <th>capitalgain</th>\n      <th>capitalloss</th>\n      <th>hoursperweek</th>\n    </tr>\n  </thead>\n  <tbody>\n    <tr>\n      <th>age</th>\n      <td>1.000000</td>\n      <td>0.080154</td>\n      <td>0.060165</td>\n      <td>0.101599</td>\n    </tr>\n    <tr>\n      <th>capitalgain</th>\n      <td>0.080154</td>\n      <td>1.000000</td>\n      <td>-0.032229</td>\n      <td>0.080432</td>\n    </tr>\n    <tr>\n      <th>capitalloss</th>\n      <td>0.060165</td>\n      <td>-0.032229</td>\n      <td>1.000000</td>\n      <td>0.052417</td>\n    </tr>\n    <tr>\n      <th>hoursperweek</th>\n      <td>0.101599</td>\n      <td>0.080432</td>\n      <td>0.052417</td>\n      <td>1.000000</td>\n    </tr>\n  </tbody>\n</table>\n</div>"
     },
     "execution_count": 15,
     "metadata": {},
     "output_type": "execute_result"
    }
   ],
   "source": [
    "correlation = data2.corr()\n",
    "correlation"
   ],
   "metadata": {
    "collapsed": false,
    "pycharm": {
     "name": "#%%\n"
    }
   }
  },
  {
   "cell_type": "code",
   "execution_count": 16,
   "outputs": [
    {
     "data": {
      "text/plain": "Index(['age', 'JobType', 'EdType', 'maritalstatus', 'occupation',\n       'relationship', 'race', 'gender', 'capitalgain', 'capitalloss',\n       'hoursperweek', 'nativecountry', 'SalStat'],\n      dtype='object')"
     },
     "execution_count": 16,
     "metadata": {},
     "output_type": "execute_result"
    }
   ],
   "source": [
    "data2.columns"
   ],
   "metadata": {
    "collapsed": false,
    "pycharm": {
     "name": "#%%\n"
    }
   }
  },
  {
   "cell_type": "markdown",
   "source": [
    "# Gender Proportion Table"
   ],
   "metadata": {
    "collapsed": false,
    "pycharm": {
     "name": "#%% md\n"
    }
   }
  },
  {
   "cell_type": "code",
   "execution_count": 17,
   "outputs": [
    {
     "data": {
      "text/plain": "col_0       count\ngender           \n Female  0.324315\n Male    0.675685",
      "text/html": "<div>\n<style scoped>\n    .dataframe tbody tr th:only-of-type {\n        vertical-align: middle;\n    }\n\n    .dataframe tbody tr th {\n        vertical-align: top;\n    }\n\n    .dataframe thead th {\n        text-align: right;\n    }\n</style>\n<table border=\"1\" class=\"dataframe\">\n  <thead>\n    <tr style=\"text-align: right;\">\n      <th>col_0</th>\n      <th>count</th>\n    </tr>\n    <tr>\n      <th>gender</th>\n      <th></th>\n    </tr>\n  </thead>\n  <tbody>\n    <tr>\n      <th>Female</th>\n      <td>0.324315</td>\n    </tr>\n    <tr>\n      <th>Male</th>\n      <td>0.675685</td>\n    </tr>\n  </tbody>\n</table>\n</div>"
     },
     "execution_count": 17,
     "metadata": {},
     "output_type": "execute_result"
    }
   ],
   "source": [
    "gender = pd.crosstab(index = data2['gender'], columns = 'count', normalize=True)\n",
    "gender"
   ],
   "metadata": {
    "collapsed": false,
    "pycharm": {
     "name": "#%%\n"
    }
   }
  },
  {
   "cell_type": "markdown",
   "source": [
    "# Gender vs Salary Status"
   ],
   "metadata": {
    "collapsed": false,
    "pycharm": {
     "name": "#%% md\n"
    }
   }
  },
  {
   "cell_type": "code",
   "execution_count": 18,
   "outputs": [
    {
     "data": {
      "text/plain": "SalStat   greater than 50,000   less than or equal to 50,000\ngender                                                      \n Female              0.113678                       0.886322\n Male                0.313837                       0.686163\nAll                  0.248922                       0.751078",
      "text/html": "<div>\n<style scoped>\n    .dataframe tbody tr th:only-of-type {\n        vertical-align: middle;\n    }\n\n    .dataframe tbody tr th {\n        vertical-align: top;\n    }\n\n    .dataframe thead th {\n        text-align: right;\n    }\n</style>\n<table border=\"1\" class=\"dataframe\">\n  <thead>\n    <tr style=\"text-align: right;\">\n      <th>SalStat</th>\n      <th>greater than 50,000</th>\n      <th>less than or equal to 50,000</th>\n    </tr>\n    <tr>\n      <th>gender</th>\n      <th></th>\n      <th></th>\n    </tr>\n  </thead>\n  <tbody>\n    <tr>\n      <th>Female</th>\n      <td>0.113678</td>\n      <td>0.886322</td>\n    </tr>\n    <tr>\n      <th>Male</th>\n      <td>0.313837</td>\n      <td>0.686163</td>\n    </tr>\n    <tr>\n      <th>All</th>\n      <td>0.248922</td>\n      <td>0.751078</td>\n    </tr>\n  </tbody>\n</table>\n</div>"
     },
     "execution_count": 18,
     "metadata": {},
     "output_type": "execute_result"
    }
   ],
   "source": [
    "gender_SalStat = pd.crosstab(index = data2['gender'], columns = data2['SalStat'], margins=True, normalize='index')\n",
    "gender_SalStat"
   ],
   "metadata": {
    "collapsed": false,
    "pycharm": {
     "name": "#%%\n"
    }
   }
  },
  {
   "cell_type": "markdown",
   "source": [
    "# Frequency Distribution of Salary Status"
   ],
   "metadata": {
    "collapsed": false,
    "pycharm": {
     "name": "#%% md\n"
    }
   }
  },
  {
   "cell_type": "code",
   "execution_count": 19,
   "outputs": [
    {
     "data": {
      "text/plain": "<AxesSubplot:xlabel='SalStat', ylabel='count'>"
     },
     "execution_count": 19,
     "metadata": {},
     "output_type": "execute_result"
    },
    {
     "data": {
      "text/plain": "<Figure size 432x288 with 1 Axes>",
      "image/png": "[encoded data removed]"
     },
     "metadata": {},
     "output_type": "display_data"
    }
   ],
   "source": [
    "sns.countplot(x = data2['SalStat'])"
   ],
   "metadata": {
    "collapsed": false,
    "pycharm": {
     "name": "#%%\n"
    }
   }
  },
  {
   "cell_type": "markdown",
   "source": [
    "75% of people have salary <= 50,000\n",
    "25% of people have salary >50,000"
   ],
   "metadata": {
    "collapsed": false,
    "pycharm": {
     "name": "#%% md\n"
    }
   }
  },
  {
   "cell_type": "code",
   "execution_count": 20,
   "outputs": [
    {
     "data": {
      "text/plain": "<AxesSubplot:xlabel='age', ylabel='Count'>"
     },
     "execution_count": 20,
     "metadata": {},
     "output_type": "execute_result"
    },
    {
     "data": {
      "text/plain": "<Figure size 432x288 with 1 Axes>",
      "image/png": "[encoded data removed]"
     },
     "metadata": {},
     "output_type": "display_data"
    }
   ],
   "source": [
    "sns.histplot(data2['age'], bins=10, kde=True)"
   ],
   "metadata": {
    "collapsed": false,
    "pycharm": {
     "name": "#%%\n"
    }
   }
  },
  {
   "cell_type": "markdown",
   "source": [
    "people with age 20-45 are in high frequency"
   ],
   "metadata": {
    "collapsed": false,
    "pycharm": {
     "name": "#%% md\n"
    }
   }
  },
  {
   "cell_type": "markdown",
   "source": [
    "# Box Plot Age vs Salary Status"
   ],
   "metadata": {
    "collapsed": false,
    "pycharm": {
     "name": "#%% md\n"
    }
   }
  },
  {
   "cell_type": "code",
   "execution_count": 21,
   "outputs": [
    {
     "data": {
      "text/plain": "SalStat\n greater than 50,000             43.0\n less than or equal to 50,000    34.0\nName: age, dtype: float64"
     },
     "execution_count": 21,
     "metadata": {},
     "output_type": "execute_result"
    },
    {
     "data": {
      "text/plain": "<Figure size 432x288 with 1 Axes>",
      "image/png": "[encoded data removed]"
     },
     "metadata": {},
     "output_type": "display_data"
    }
   ],
   "source": [
    "sns.boxplot(x = 'SalStat', y = 'age', data=data2)\n",
    "data2.groupby('SalStat')['age'].median()"
   ],
   "metadata": {
    "collapsed": false,
    "pycharm": {
     "name": "#%%\n"
    }
   }
  },
  {
   "cell_type": "markdown",
   "source": [
    "# Job Type vs Salary Status"
   ],
   "metadata": {
    "collapsed": false,
    "pycharm": {
     "name": "#%% md\n"
    }
   }
  },
  {
   "cell_type": "code",
   "execution_count": 22,
   "outputs": [
    {
     "data": {
      "text/plain": "<AxesSubplot:xlabel='count', ylabel='JobType'>"
     },
     "execution_count": 22,
     "metadata": {},
     "output_type": "execute_result"
    },
    {
     "data": {
      "text/plain": "<Figure size 432x288 with 1 Axes>",
      "image/png": "[encoded data removed]"
     },
     "metadata": {},
     "output_type": "display_data"
    }
   ],
   "source": [
    "sns.countplot(y = data2['JobType'], hue='SalStat', data=data2)"
   ],
   "metadata": {
    "collapsed": false,
    "pycharm": {
     "name": "#%%\n"
    }
   }
  },
  {
   "cell_type": "code",
   "execution_count": 23,
   "outputs": [
    {
     "data": {
      "text/plain": "SalStat             greater than 50,000   less than or equal to 50,000\nJobType                                                               \n Federal-gov                      38.71                          61.29\n Local-gov                        29.46                          70.54\n Private                          21.88                          78.12\n Self-emp-inc                     55.87                          44.13\n Self-emp-not-inc                 28.57                          71.43\n State-gov                        26.90                          73.10\n Without-pay                       0.00                         100.00",
      "text/html": "<div>\n<style scoped>\n    .dataframe tbody tr th:only-of-type {\n        vertical-align: middle;\n    }\n\n    .dataframe tbody tr th {\n        vertical-align: top;\n    }\n\n    .dataframe thead th {\n        text-align: right;\n    }\n</style>\n<table border=\"1\" class=\"dataframe\">\n  <thead>\n    <tr style=\"text-align: right;\">\n      <th>SalStat</th>\n      <th>greater than 50,000</th>\n      <th>less than or equal to 50,000</th>\n    </tr>\n    <tr>\n      <th>JobType</th>\n      <th></th>\n      <th></th>\n    </tr>\n  </thead>\n  <tbody>\n    <tr>\n      <th>Federal-gov</th>\n      <td>38.71</td>\n      <td>61.29</td>\n    </tr>\n    <tr>\n      <th>Local-gov</th>\n      <td>29.46</td>\n      <td>70.54</td>\n    </tr>\n    <tr>\n      <th>Private</th>\n      <td>21.88</td>\n      <td>78.12</td>\n    </tr>\n    <tr>\n      <th>Self-emp-inc</th>\n      <td>55.87</td>\n      <td>44.13</td>\n    </tr>\n    <tr>\n      <th>Self-emp-not-inc</th>\n      <td>28.57</td>\n      <td>71.43</td>\n    </tr>\n    <tr>\n      <th>State-gov</th>\n      <td>26.90</td>\n      <td>73.10</td>\n    </tr>\n    <tr>\n      <th>Without-pay</th>\n      <td>0.00</td>\n      <td>100.00</td>\n    </tr>\n  </tbody>\n</table>\n</div>"
     },
     "execution_count": 23,
     "metadata": {},
     "output_type": "execute_result"
    }
   ],
   "source": [
    "Job_Sal = pd.crosstab(index=data2['JobType'], columns=data2['SalStat'], normalize='index').round(4)*100\n",
    "Job_Sal"
   ],
   "metadata": {
    "collapsed": false,
    "pycharm": {
     "name": "#%%\n"
    }
   }
  },
  {
   "cell_type": "markdown",
   "source": [
    "# Education vs Salary"
   ],
   "metadata": {
    "collapsed": false,
    "pycharm": {
     "name": "#%% md\n"
    }
   }
  },
  {
   "cell_type": "code",
   "execution_count": 24,
   "outputs": [
    {
     "data": {
      "text/plain": "<AxesSubplot:xlabel='count', ylabel='EdType'>"
     },
     "execution_count": 24,
     "metadata": {},
     "output_type": "execute_result"
    },
    {
     "data": {
      "text/plain": "<Figure size 432x288 with 1 Axes>",
      "image/png": "[encoded data removed]"
     },
     "metadata": {},
     "output_type": "display_data"
    }
   ],
   "source": [
    "sns.countplot(y = data2['EdType'], hue='SalStat', data=data2)"
   ],
   "metadata": {
    "collapsed": false,
    "pycharm": {
     "name": "#%%\n"
    }
   }
  },
  {
   "cell_type": "code",
   "execution_count": 25,
   "outputs": [
    {
     "data": {
      "text/plain": "SalStat         greater than 50,000   less than or equal to 50,000\nEdType                                                            \n 10th                          7.20                          92.80\n 11th                          5.63                          94.37\n 12th                          7.69                          92.31\n 1st-4th                       3.97                          96.03\n 5th-6th                       4.17                          95.83\n 7th-8th                       6.28                          93.72\n 9th                           5.49                          94.51\n Assoc-acdm                   25.40                          74.60\n Assoc-voc                    26.32                          73.68\n Bachelors                    42.15                          57.85\n Doctorate                    74.67                          25.33\n HS-grad                      16.43                          83.57\n Masters                      56.42                          43.58\n Preschool                     0.00                         100.00\n Prof-school                  74.91                          25.09\n Some-college                 20.01                          79.99",
      "text/html": "<div>\n<style scoped>\n    .dataframe tbody tr th:only-of-type {\n        vertical-align: middle;\n    }\n\n    .dataframe tbody tr th {\n        vertical-align: top;\n    }\n\n    .dataframe thead th {\n        text-align: right;\n    }\n</style>\n<table border=\"1\" class=\"dataframe\">\n  <thead>\n    <tr style=\"text-align: right;\">\n      <th>SalStat</th>\n      <th>greater than 50,000</th>\n      <th>less than or equal to 50,000</th>\n    </tr>\n    <tr>\n      <th>EdType</th>\n      <th></th>\n      <th></th>\n    </tr>\n  </thead>\n  <tbody>\n    <tr>\n      <th>10th</th>\n      <td>7.20</td>\n      <td>92.80</td>\n    </tr>\n    <tr>\n      <th>11th</th>\n      <td>5.63</td>\n      <td>94.37</td>\n    </tr>\n    <tr>\n      <th>12th</th>\n      <td>7.69</td>\n      <td>92.31</td>\n    </tr>\n    <tr>\n      <th>1st-4th</th>\n      <td>3.97</td>\n      <td>96.03</td>\n    </tr>\n    <tr>\n      <th>5th-6th</th>\n      <td>4.17</td>\n      <td>95.83</td>\n    </tr>\n    <tr>\n      <th>7th-8th</th>\n      <td>6.28</td>\n      <td>93.72</td>\n    </tr>\n    <tr>\n      <th>9th</th>\n      <td>5.49</td>\n      <td>94.51</td>\n    </tr>\n    <tr>\n      <th>Assoc-acdm</th>\n      <td>25.40</td>\n      <td>74.60</td>\n    </tr>\n    <tr>\n      <th>Assoc-voc</th>\n      <td>26.32</td>\n      <td>73.68</td>\n    </tr>\n    <tr>\n      <th>Bachelors</th>\n      <td>42.15</td>\n      <td>57.85</td>\n    </tr>\n    <tr>\n      <th>Doctorate</th>\n      <td>74.67</td>\n      <td>25.33</td>\n    </tr>\n    <tr>\n      <th>HS-grad</th>\n      <td>16.43</td>\n      <td>83.57</td>\n    </tr>\n    <tr>\n      <th>Masters</th>\n      <td>56.42</td>\n      <td>43.58</td>\n    </tr>\n    <tr>\n      <th>Preschool</th>\n      <td>0.00</td>\n      <td>100.00</td>\n    </tr>\n    <tr>\n      <th>Prof-school</th>\n      <td>74.91</td>\n      <td>25.09</td>\n    </tr>\n    <tr>\n      <th>Some-college</th>\n      <td>20.01</td>\n      <td>79.99</td>\n    </tr>\n  </tbody>\n</table>\n</div>"
     },
     "execution_count": 25,
     "metadata": {},
     "output_type": "execute_result"
    }
   ],
   "source": [
    "Edu_Sal = pd.crosstab(index = data2['EdType'], columns = data2['SalStat'], normalize='index').round(4)*100\n",
    "Edu_Sal"
   ],
   "metadata": {
    "collapsed": false,
    "pycharm": {
     "name": "#%%\n"
    }
   }
  },
  {
   "cell_type": "markdown",
   "source": [
    "# Occupation vs Salary Status"
   ],
   "metadata": {
    "collapsed": false,
    "pycharm": {
     "name": "#%% md\n"
    }
   }
  },
  {
   "cell_type": "code",
   "execution_count": 26,
   "outputs": [
    {
     "data": {
      "text/plain": "<AxesSubplot:xlabel='count', ylabel='occupation'>"
     },
     "execution_count": 26,
     "metadata": {},
     "output_type": "execute_result"
    },
    {
     "data": {
      "text/plain": "<Figure size 432x288 with 1 Axes>",
      "image/png": "[encoded data removed]"
     },
     "metadata": {},
     "output_type": "display_data"
    }
   ],
   "source": [
    "sns.countplot(y = data2['occupation'], hue='SalStat', data = data2)"
   ],
   "metadata": {
    "collapsed": false,
    "pycharm": {
     "name": "#%%\n"
    }
   }
  },
  {
   "cell_type": "code",
   "execution_count": 27,
   "outputs": [
    {
     "data": {
      "text/plain": "SalStat              greater than 50,000   less than or equal to 50,000\noccupation                                                             \n Adm-clerical                      13.38                          86.62\n Armed-Forces                      11.11                          88.89\n Craft-repair                      22.53                          77.47\n Exec-managerial                   48.52                          51.48\n Farming-fishing                   11.63                          88.37\n Handlers-cleaners                  6.15                          93.85\n Machine-op-inspct                 12.46                          87.54\n Other-service                      4.11                          95.89\n Priv-house-serv                    0.70                          99.30\n Prof-specialty                    44.85                          55.15\n Protective-serv                   32.61                          67.39\n Sales                             27.06                          72.94\n Tech-support                      30.48                          69.52\n Transport-moving                  20.29                          79.71",
      "text/html": "<div>\n<style scoped>\n    .dataframe tbody tr th:only-of-type {\n        vertical-align: middle;\n    }\n\n    .dataframe tbody tr th {\n        vertical-align: top;\n    }\n\n    .dataframe thead th {\n        text-align: right;\n    }\n</style>\n<table border=\"1\" class=\"dataframe\">\n  <thead>\n    <tr style=\"text-align: right;\">\n      <th>SalStat</th>\n      <th>greater than 50,000</th>\n      <th>less than or equal to 50,000</th>\n    </tr>\n    <tr>\n      <th>occupation</th>\n      <th></th>\n      <th></th>\n    </tr>\n  </thead>\n  <tbody>\n    <tr>\n      <th>Adm-clerical</th>\n      <td>13.38</td>\n      <td>86.62</td>\n    </tr>\n    <tr>\n      <th>Armed-Forces</th>\n      <td>11.11</td>\n      <td>88.89</td>\n    </tr>\n    <tr>\n      <th>Craft-repair</th>\n      <td>22.53</td>\n      <td>77.47</td>\n    </tr>\n    <tr>\n      <th>Exec-managerial</th>\n      <td>48.52</td>\n      <td>51.48</td>\n    </tr>\n    <tr>\n      <th>Farming-fishing</th>\n      <td>11.63</td>\n      <td>88.37</td>\n    </tr>\n    <tr>\n      <th>Handlers-cleaners</th>\n      <td>6.15</td>\n      <td>93.85</td>\n    </tr>\n    <tr>\n      <th>Machine-op-inspct</th>\n      <td>12.46</td>\n      <td>87.54</td>\n    </tr>\n    <tr>\n      <th>Other-service</th>\n      <td>4.11</td>\n      <td>95.89</td>\n    </tr>\n    <tr>\n      <th>Priv-house-serv</th>\n      <td>0.70</td>\n      <td>99.30</td>\n    </tr>\n    <tr>\n      <th>Prof-specialty</th>\n      <td>44.85</td>\n      <td>55.15</td>\n    </tr>\n    <tr>\n      <th>Protective-serv</th>\n      <td>32.61</td>\n      <td>67.39</td>\n    </tr>\n    <tr>\n      <th>Sales</th>\n      <td>27.06</td>\n      <td>72.94</td>\n    </tr>\n    <tr>\n      <th>Tech-support</th>\n      <td>30.48</td>\n      <td>69.52</td>\n    </tr>\n    <tr>\n      <th>Transport-moving</th>\n      <td>20.29</td>\n      <td>79.71</td>\n    </tr>\n  </tbody>\n</table>\n</div>"
     },
     "execution_count": 27,
     "metadata": {},
     "output_type": "execute_result"
    }
   ],
   "source": [
    "Ocpn_Sal = pd.crosstab(index = data2['occupation'], columns = data2['SalStat'], normalize='index').round(4)*100\n",
    "Ocpn_Sal"
   ],
   "metadata": {
    "collapsed": false,
    "pycharm": {
     "name": "#%%\n"
    }
   }
  },
  {
   "cell_type": "markdown",
   "source": [
    "# Capital Gain"
   ],
   "metadata": {
    "collapsed": false,
    "pycharm": {
     "name": "#%% md\n"
    }
   }
  },
  {
   "cell_type": "code",
   "execution_count": 28,
   "outputs": [
    {
     "data": {
      "text/plain": "<AxesSubplot:xlabel='capitalgain', ylabel='Count'>"
     },
     "execution_count": 28,
     "metadata": {},
     "output_type": "execute_result"
    },
    {
     "data": {
      "text/plain": "<Figure size 432x288 with 1 Axes>",
      "image/png": "[encoded data removed]"
     },
     "metadata": {},
     "output_type": "display_data"
    }
   ],
   "source": [
    "sns.histplot(x = data2['capitalgain'])"
   ],
   "metadata": {
    "collapsed": false,
    "pycharm": {
     "name": "#%%\n"
    }
   }
  },
  {
   "cell_type": "markdown",
   "source": [
    "92% of the capitol gain is 0"
   ],
   "metadata": {
    "collapsed": false,
    "pycharm": {
     "name": "#%% md\n"
    }
   }
  },
  {
   "cell_type": "markdown",
   "source": [
    "# Capital Loss"
   ],
   "metadata": {
    "collapsed": false,
    "pycharm": {
     "name": "#%% md\n"
    }
   }
  },
  {
   "cell_type": "code",
   "execution_count": 29,
   "outputs": [
    {
     "data": {
      "text/plain": "<AxesSubplot:xlabel='capitalloss', ylabel='Count'>"
     },
     "execution_count": 29,
     "metadata": {},
     "output_type": "execute_result"
    },
    {
     "data": {
      "text/plain": "<Figure size 432x288 with 1 Axes>",
      "image/png": "[encoded data removed]"
     },
     "metadata": {},
     "output_type": "display_data"
    }
   ],
   "source": [
    "sns.histplot(data2['capitalloss'])"
   ],
   "metadata": {
    "collapsed": false,
    "pycharm": {
     "name": "#%%\n"
    }
   }
  },
  {
   "cell_type": "markdown",
   "source": [
    "95% of the capitpal loss is zero"
   ],
   "metadata": {
    "collapsed": false,
    "pycharm": {
     "name": "#%% md\n"
    }
   }
  },
  {
   "cell_type": "markdown",
   "source": [
    "# Hours per Week vs Salary Status"
   ],
   "metadata": {
    "collapsed": false,
    "pycharm": {
     "name": "#%% md\n"
    }
   }
  },
  {
   "cell_type": "code",
   "execution_count": 30,
   "outputs": [
    {
     "data": {
      "text/plain": "<AxesSubplot:xlabel='SalStat', ylabel='hoursperweek'>"
     },
     "execution_count": 30,
     "metadata": {},
     "output_type": "execute_result"
    },
    {
     "data": {
      "text/plain": "<Figure size 432x288 with 1 Axes>",
      "image/png": "[encoded data removed]"
     },
     "metadata": {},
     "output_type": "display_data"
    }
   ],
   "source": [
    "sns.boxplot(x = data2['SalStat'], y = data2['hoursperweek'])"
   ],
   "metadata": {
    "collapsed": false,
    "pycharm": {
     "name": "#%%\n"
    }
   }
  },
  {
   "cell_type": "markdown",
   "source": [
    "# Reindexing salary status to 0 and 1"
   ],
   "metadata": {
    "collapsed": false,
    "pycharm": {
     "name": "#%% md\n"
    }
   }
  },
  {
   "cell_type": "code",
   "execution_count": 31,
   "outputs": [],
   "source": [
    "data2.loc[data2['SalStat'] == \" less than or equal to 50,000\", \"SalStat\"] = 0\n",
    "data2.loc[data2['SalStat'] == \" greater than 50,000\", \"SalStat\"] = 1"
   ],
   "metadata": {
    "collapsed": false,
    "pycharm": {
     "name": "#%%\n"
    }
   }
  },
  {
   "cell_type": "code",
   "execution_count": 32,
   "outputs": [
    {
     "data": {
      "text/plain": "0        0\n1        0\n2        1\n3        0\n4        0\n        ..\n31973    0\n31974    0\n31975    0\n31976    0\n31977    0\nName: SalStat, Length: 30162, dtype: object"
     },
     "execution_count": 32,
     "metadata": {},
     "output_type": "execute_result"
    }
   ],
   "source": [
    "data2['SalStat']"
   ],
   "metadata": {
    "collapsed": false,
    "pycharm": {
     "name": "#%%\n"
    }
   }
  },
  {
   "cell_type": "code",
   "execution_count": 33,
   "outputs": [
    {
     "name": "stderr",
     "output_type": "stream",
     "text": [
      "C:\\ProgramData\\Anaconda3\\lib\\site-packages\\pandas\\core\\algorithms.py:798: FutureWarning: In a future version, the Index constructor will not infer numeric dtypes when passed object-dtype sequences (matching Series behavior)\n",
      "  uniques = Index(uniques)\n"
     ]
    },
    {
     "data": {
      "text/plain": "       age  capitalgain  capitalloss  hoursperweek  JobType_ Local-gov  \\\n0       45            0            0            28                   0   \n1       24            0            0            40                   0   \n2       44            0            0            40                   0   \n3       27            0            0            40                   0   \n4       20            0            0            35                   0   \n...    ...          ...          ...           ...                 ...   \n31973   34          594            0            60                   1   \n31974   34            0            0            40                   1   \n31975   23            0            0            40                   0   \n31976   42            0            0            40                   1   \n31977   29            0            0            40                   0   \n\n       JobType_ Private  JobType_ Self-emp-inc  JobType_ Self-emp-not-inc  \\\n0                     1                      0                          0   \n1                     0                      0                          0   \n2                     1                      0                          0   \n3                     1                      0                          0   \n4                     1                      0                          0   \n...                 ...                    ...                        ...   \n31973                 0                      0                          0   \n31974                 0                      0                          0   \n31975                 1                      0                          0   \n31976                 0                      0                          0   \n31977                 1                      0                          0   \n\n       JobType_ State-gov  JobType_ Without-pay  ...  \\\n0                       0                     0  ...   \n1                       0                     0  ...   \n2                       0                     0  ...   \n3                       0                     0  ...   \n4                       0                     0  ...   \n...                   ...                   ...  ...   \n31973                   0                     0  ...   \n31974                   0                     0  ...   \n31975                   0                     0  ...   \n31976                   0                     0  ...   \n31977                   0                     0  ...   \n\n       nativecountry_ Puerto-Rico  nativecountry_ Scotland  \\\n0                               0                        0   \n1                               0                        0   \n2                               0                        0   \n3                               0                        0   \n4                               0                        0   \n...                           ...                      ...   \n31973                           0                        0   \n31974                           0                        0   \n31975                           0                        0   \n31976                           0                        0   \n31977                           0                        0   \n\n       nativecountry_ South  nativecountry_ Taiwan  nativecountry_ Thailand  \\\n0                         0                      0                        0   \n1                         0                      0                        0   \n2                         0                      0                        0   \n3                         0                      0                        0   \n4                         0                      0                        0   \n...                     ...                    ...                      ...   \n31973                     0                      0                        0   \n31974                     0                      0                        0   \n31975                     0                      0                        0   \n31976                     0                      0                        0   \n31977                     0                      0                        0   \n\n       nativecountry_ Trinadad&Tobago  nativecountry_ United-States  \\\n0                                   0                             1   \n1                                   0                             1   \n2                                   0                             1   \n3                                   0                             0   \n4                                   0                             1   \n...                               ...                           ...   \n31973                               0                             1   \n31974                               0                             1   \n31975                               0                             1   \n31976                               0                             1   \n31977                               0                             1   \n\n       nativecountry_ Vietnam  nativecountry_ Yugoslavia  SalStat_1  \n0                           0                          0          0  \n1                           0                          0          0  \n2                           0                          0          1  \n3                           0                          0          0  \n4                           0                          0          0  \n...                       ...                        ...        ...  \n31973                       0                          0          0  \n31974                       0                          0          0  \n31975                       0                          0          0  \n31976                       0                          0          0  \n31977                       0                          0          0  \n\n[30162 rows x 95 columns]",
      "text/html": "<div>\n<style scoped>\n    .dataframe tbody tr th:only-of-type {\n        vertical-align: middle;\n    }\n\n    .dataframe tbody tr th {\n        vertical-align: top;\n    }\n\n    .dataframe thead th {\n        text-align: right;\n    }\n</style>\n<table border=\"1\" class=\"dataframe\">\n  <thead>\n    <tr style=\"text-align: right;\">\n      <th></th>\n      <th>age</th>\n      <th>capitalgain</th>\n      <th>capitalloss</th>\n      <th>hoursperweek</th>\n      <th>JobType_ Local-gov</th>\n      <th>JobType_ Private</th>\n      <th>JobType_ Self-emp-inc</th>\n      <th>JobType_ Self-emp-not-inc</th>\n      <th>JobType_ State-gov</th>\n      <th>JobType_ Without-pay</th>\n      <th>...</th>\n      <th>nativecountry_ Puerto-Rico</th>\n      <th>nativecountry_ Scotland</th>\n      <th>nativecountry_ South</th>\n      <th>nativecountry_ Taiwan</th>\n      <th>nativecountry_ Thailand</th>\n      <th>nativecountry_ Trinadad&amp;Tobago</th>\n      <th>nativecountry_ United-States</th>\n      <th>nativecountry_ Vietnam</th>\n      <th>nativecountry_ Yugoslavia</th>\n      <th>SalStat_1</th>\n    </tr>\n  </thead>\n  <tbody>\n    <tr>\n      <th>0</th>\n      <td>45</td>\n      <td>0</td>\n      <td>0</td>\n      <td>28</td>\n      <td>0</td>\n      <td>1</td>\n      <td>0</td>\n      <td>0</td>\n      <td>0</td>\n      <td>0</td>\n      <td>...</td>\n      <td>0</td>\n      <td>0</td>\n      <td>0</td>\n      <td>0</td>\n      <td>0</td>\n      <td>0</td>\n      <td>1</td>\n      <td>0</td>\n      <td>0</td>\n      <td>0</td>\n    </tr>\n    <tr>\n      <th>1</th>\n      <td>24</td>\n      <td>0</td>\n      <td>0</td>\n      <td>40</td>\n      <td>0</td>\n      <td>0</td>\n      <td>0</td>\n      <td>0</td>\n      <td>0</td>\n      <td>0</td>\n      <td>...</td>\n      <td>0</td>\n      <td>0</td>\n      <td>0</td>\n      <td>0</td>\n      <td>0</td>\n      <td>0</td>\n      <td>1</td>\n      <td>0</td>\n      <td>0</td>\n      <td>0</td>\n    </tr>\n    <tr>\n      <th>2</th>\n      <td>44</td>\n      <td>0</td>\n      <td>0</td>\n      <td>40</td>\n      <td>0</td>\n      <td>1</td>\n      <td>0</td>\n      <td>0</td>\n      <td>0</td>\n      <td>0</td>\n      <td>...</td>\n      <td>0</td>\n      <td>0</td>\n      <td>0</td>\n      <td>0</td>\n      <td>0</td>\n      <td>0</td>\n      <td>1</td>\n      <td>0</td>\n      <td>0</td>\n      <td>1</td>\n    </tr>\n    <tr>\n      <th>3</th>\n      <td>27</td>\n      <td>0</td>\n      <td>0</td>\n      <td>40</td>\n      <td>0</td>\n      <td>1</td>\n      <td>0</td>\n      <td>0</td>\n      <td>0</td>\n      <td>0</td>\n      <td>...</td>\n      <td>0</td>\n      <td>0</td>\n      <td>0</td>\n      <td>0</td>\n      <td>0</td>\n      <td>0</td>\n      <td>0</td>\n      <td>0</td>\n      <td>0</td>\n      <td>0</td>\n    </tr>\n    <tr>\n      <th>4</th>\n      <td>20</td>\n      <td>0</td>\n      <td>0</td>\n      <td>35</td>\n      <td>0</td>\n      <td>1</td>\n      <td>0</td>\n      <td>0</td>\n      <td>0</td>\n      <td>0</td>\n      <td>...</td>\n      <td>0</td>\n      <td>0</td>\n      <td>0</td>\n      <td>0</td>\n      <td>0</td>\n      <td>0</td>\n      <td>1</td>\n      <td>0</td>\n      <td>0</td>\n      <td>0</td>\n    </tr>\n    <tr>\n      <th>...</th>\n      <td>...</td>\n      <td>...</td>\n      <td>...</td>\n      <td>...</td>\n      <td>...</td>\n      <td>...</td>\n      <td>...</td>\n      <td>...</td>\n      <td>...</td>\n      <td>...</td>\n      <td>...</td>\n      <td>...</td>\n      <td>...</td>\n      <td>...</td>\n      <td>...</td>\n      <td>...</td>\n      <td>...</td>\n      <td>...</td>\n      <td>...</td>\n      <td>...</td>\n      <td>...</td>\n    </tr>\n    <tr>\n      <th>31973</th>\n      <td>34</td>\n      <td>594</td>\n      <td>0</td>\n      <td>60</td>\n      <td>1</td>\n      <td>0</td>\n      <td>0</td>\n      <td>0</td>\n      <td>0</td>\n      <td>0</td>\n      <td>...</td>\n      <td>0</td>\n      <td>0</td>\n      <td>0</td>\n      <td>0</td>\n      <td>0</td>\n      <td>0</td>\n      <td>1</td>\n      <td>0</td>\n      <td>0</td>\n      <td>0</td>\n    </tr>\n    <tr>\n      <th>31974</th>\n      <td>34</td>\n      <td>0</td>\n      <td>0</td>\n      <td>40</td>\n      <td>1</td>\n      <td>0</td>\n      <td>0</td>\n      <td>0</td>\n      <td>0</td>\n      <td>0</td>\n      <td>...</td>\n      <td>0</td>\n      <td>0</td>\n      <td>0</td>\n      <td>0</td>\n      <td>0</td>\n      <td>0</td>\n      <td>1</td>\n      <td>0</td>\n      <td>0</td>\n      <td>0</td>\n    </tr>\n    <tr>\n      <th>31975</th>\n      <td>23</td>\n      <td>0</td>\n      <td>0</td>\n      <td>40</td>\n      <td>0</td>\n      <td>1</td>\n      <td>0</td>\n      <td>0</td>\n      <td>0</td>\n      <td>0</td>\n      <td>...</td>\n      <td>0</td>\n      <td>0</td>\n      <td>0</td>\n      <td>0</td>\n      <td>0</td>\n      <td>0</td>\n      <td>1</td>\n      <td>0</td>\n      <td>0</td>\n      <td>0</td>\n    </tr>\n    <tr>\n      <th>31976</th>\n      <td>42</td>\n      <td>0</td>\n      <td>0</td>\n      <td>40</td>\n      <td>1</td>\n      <td>0</td>\n      <td>0</td>\n      <td>0</td>\n      <td>0</td>\n      <td>0</td>\n      <td>...</td>\n      <td>0</td>\n      <td>0</td>\n      <td>0</td>\n      <td>0</td>\n      <td>0</td>\n      <td>0</td>\n      <td>1</td>\n      <td>0</td>\n      <td>0</td>\n      <td>0</td>\n    </tr>\n    <tr>\n      <th>31977</th>\n      <td>29</td>\n      <td>0</td>\n      <td>0</td>\n      <td>40</td>\n      <td>0</td>\n      <td>1</td>\n      <td>0</td>\n      <td>0</td>\n      <td>0</td>\n      <td>0</td>\n      <td>...</td>\n      <td>0</td>\n      <td>0</td>\n      <td>0</td>\n      <td>0</td>\n      <td>0</td>\n      <td>0</td>\n      <td>1</td>\n      <td>0</td>\n      <td>0</td>\n      <td>0</td>\n    </tr>\n  </tbody>\n</table>\n<p>30162 rows × 95 columns</p>\n</div>"
     },
     "execution_count": 33,
     "metadata": {},
     "output_type": "execute_result"
    }
   ],
   "source": [
    "new_data = pd.get_dummies(data2, drop_first=True)\n",
    "new_data"
   ],
   "metadata": {
    "collapsed": false,
    "pycharm": {
     "name": "#%%\n"
    }
   }
  },
  {
   "cell_type": "code",
   "execution_count": 34,
   "outputs": [
    {
     "data": {
      "text/plain": "['age',\n 'capitalgain',\n 'capitalloss',\n 'hoursperweek',\n 'JobType_ Local-gov',\n 'JobType_ Private',\n 'JobType_ Self-emp-inc',\n 'JobType_ Self-emp-not-inc',\n 'JobType_ State-gov',\n 'JobType_ Without-pay',\n 'EdType_ 11th',\n 'EdType_ 12th',\n 'EdType_ 1st-4th',\n 'EdType_ 5th-6th',\n 'EdType_ 7th-8th',\n 'EdType_ 9th',\n 'EdType_ Assoc-acdm',\n 'EdType_ Assoc-voc',\n 'EdType_ Bachelors',\n 'EdType_ Doctorate',\n 'EdType_ HS-grad',\n 'EdType_ Masters',\n 'EdType_ Preschool',\n 'EdType_ Prof-school',\n 'EdType_ Some-college',\n 'maritalstatus_ Married-AF-spouse',\n 'maritalstatus_ Married-civ-spouse',\n 'maritalstatus_ Married-spouse-absent',\n 'maritalstatus_ Never-married',\n 'maritalstatus_ Separated',\n 'maritalstatus_ Widowed',\n 'occupation_ Armed-Forces',\n 'occupation_ Craft-repair',\n 'occupation_ Exec-managerial',\n 'occupation_ Farming-fishing',\n 'occupation_ Handlers-cleaners',\n 'occupation_ Machine-op-inspct',\n 'occupation_ Other-service',\n 'occupation_ Priv-house-serv',\n 'occupation_ Prof-specialty',\n 'occupation_ Protective-serv',\n 'occupation_ Sales',\n 'occupation_ Tech-support',\n 'occupation_ Transport-moving',\n 'relationship_ Not-in-family',\n 'relationship_ Other-relative',\n 'relationship_ Own-child',\n 'relationship_ Unmarried',\n 'relationship_ Wife',\n 'race_ Asian-Pac-Islander',\n 'race_ Black',\n 'race_ Other',\n 'race_ White',\n 'gender_ Male',\n 'nativecountry_ Canada',\n 'nativecountry_ China',\n 'nativecountry_ Columbia',\n 'nativecountry_ Cuba',\n 'nativecountry_ Dominican-Republic',\n 'nativecountry_ Ecuador',\n 'nativecountry_ El-Salvador',\n 'nativecountry_ England',\n 'nativecountry_ France',\n 'nativecountry_ Germany',\n 'nativecountry_ Greece',\n 'nativecountry_ Guatemala',\n 'nativecountry_ Haiti',\n 'nativecountry_ Holand-Netherlands',\n 'nativecountry_ Honduras',\n 'nativecountry_ Hong',\n 'nativecountry_ Hungary',\n 'nativecountry_ India',\n 'nativecountry_ Iran',\n 'nativecountry_ Ireland',\n 'nativecountry_ Italy',\n 'nativecountry_ Jamaica',\n 'nativecountry_ Japan',\n 'nativecountry_ Laos',\n 'nativecountry_ Mexico',\n 'nativecountry_ Nicaragua',\n 'nativecountry_ Outlying-US(Guam-USVI-etc)',\n 'nativecountry_ Peru',\n 'nativecountry_ Philippines',\n 'nativecountry_ Poland',\n 'nativecountry_ Portugal',\n 'nativecountry_ Puerto-Rico',\n 'nativecountry_ Scotland',\n 'nativecountry_ South',\n 'nativecountry_ Taiwan',\n 'nativecountry_ Thailand',\n 'nativecountry_ Trinadad&Tobago',\n 'nativecountry_ United-States',\n 'nativecountry_ Vietnam',\n 'nativecountry_ Yugoslavia',\n 'SalStat_1']"
     },
     "execution_count": 34,
     "metadata": {},
     "output_type": "execute_result"
    }
   ],
   "source": [
    "columns_list = list(new_data.columns)\n",
    "columns_list"
   ],
   "metadata": {
    "collapsed": false,
    "pycharm": {
     "name": "#%%\n"
    }
   }
  },
  {
   "cell_type": "code",
   "execution_count": 35,
   "outputs": [
    {
     "data": {
      "text/plain": "['nativecountry_ Cuba',\n 'nativecountry_ Poland',\n 'occupation_ Prof-specialty',\n 'race_ White',\n 'nativecountry_ Vietnam',\n 'occupation_ Craft-repair',\n 'EdType_ 12th',\n 'EdType_ Some-college',\n 'EdType_ Assoc-voc',\n 'capitalloss',\n 'nativecountry_ Peru',\n 'nativecountry_ Iran',\n 'JobType_ Local-gov',\n 'nativecountry_ Germany',\n 'gender_ Male',\n 'occupation_ Handlers-cleaners',\n 'occupation_ Exec-managerial',\n 'race_ Black',\n 'nativecountry_ France',\n 'nativecountry_ Philippines',\n 'nativecountry_ Ireland',\n 'nativecountry_ India',\n 'JobType_ Without-pay',\n 'EdType_ Bachelors',\n 'nativecountry_ Holand-Netherlands',\n 'hoursperweek',\n 'occupation_ Sales',\n 'relationship_ Not-in-family',\n 'maritalstatus_ Married-spouse-absent',\n 'nativecountry_ Thailand',\n 'EdType_ Masters',\n 'JobType_ Self-emp-inc',\n 'EdType_ 5th-6th',\n 'maritalstatus_ Widowed',\n 'occupation_ Other-service',\n 'nativecountry_ England',\n 'occupation_ Armed-Forces',\n 'occupation_ Protective-serv',\n 'nativecountry_ Columbia',\n 'EdType_ HS-grad',\n 'maritalstatus_ Married-AF-spouse',\n 'nativecountry_ Dominican-Republic',\n 'occupation_ Transport-moving',\n 'occupation_ Priv-house-serv',\n 'occupation_ Tech-support',\n 'relationship_ Unmarried',\n 'nativecountry_ El-Salvador',\n 'occupation_ Farming-fishing',\n 'nativecountry_ Laos',\n 'nativecountry_ Puerto-Rico',\n 'nativecountry_ Canada',\n 'EdType_ 1st-4th',\n 'nativecountry_ Greece',\n 'relationship_ Wife',\n 'age',\n 'nativecountry_ United-States',\n 'nativecountry_ Japan',\n 'nativecountry_ South',\n 'nativecountry_ China',\n 'nativecountry_ Hungary',\n 'nativecountry_ Nicaragua',\n 'JobType_ Self-emp-not-inc',\n 'nativecountry_ Outlying-US(Guam-USVI-etc)',\n 'nativecountry_ Portugal',\n 'EdType_ Preschool',\n 'nativecountry_ Mexico',\n 'nativecountry_ Guatemala',\n 'maritalstatus_ Never-married',\n 'relationship_ Own-child',\n 'capitalgain',\n 'maritalstatus_ Separated',\n 'race_ Other',\n 'EdType_ Prof-school',\n 'nativecountry_ Taiwan',\n 'nativecountry_ Haiti',\n 'nativecountry_ Italy',\n 'nativecountry_ Honduras',\n 'EdType_ 11th',\n 'nativecountry_ Yugoslavia',\n 'EdType_ Assoc-acdm',\n 'EdType_ 9th',\n 'maritalstatus_ Married-civ-spouse',\n 'nativecountry_ Jamaica',\n 'nativecountry_ Hong',\n 'EdType_ Doctorate',\n 'nativecountry_ Trinadad&Tobago',\n 'nativecountry_ Ecuador',\n 'relationship_ Other-relative',\n 'nativecountry_ Scotland',\n 'EdType_ 7th-8th',\n 'JobType_ Private',\n 'occupation_ Machine-op-inspct',\n 'race_ Asian-Pac-Islander',\n 'JobType_ State-gov']"
     },
     "execution_count": 35,
     "metadata": {},
     "output_type": "execute_result"
    }
   ],
   "source": [
    "# separating the input names from data\n",
    "features = list(set(columns_list) - set(['SalStat_1']))\n",
    "features"
   ],
   "metadata": {
    "collapsed": false,
    "pycharm": {
     "name": "#%%\n"
    }
   }
  },
  {
   "cell_type": "code",
   "execution_count": 36,
   "outputs": [
    {
     "data": {
      "text/plain": "array([0, 0, 1, ..., 0, 0, 0], dtype=uint8)"
     },
     "execution_count": 36,
     "metadata": {},
     "output_type": "execute_result"
    }
   ],
   "source": [
    "# storing the output values in y\n",
    "y = new_data['SalStat_1'].values\n",
    "y"
   ],
   "metadata": {
    "collapsed": false,
    "pycharm": {
     "name": "#%%\n"
    }
   }
  },
  {
   "cell_type": "code",
   "execution_count": 37,
   "outputs": [
    {
     "data": {
      "text/plain": "array([[0, 0, 0, ..., 0, 0, 0],\n       [0, 0, 0, ..., 0, 0, 0],\n       [0, 0, 1, ..., 0, 0, 0],\n       ...,\n       [0, 0, 0, ..., 0, 0, 0],\n       [0, 0, 0, ..., 0, 0, 0],\n       [0, 0, 1, ..., 0, 0, 0]], dtype=int64)"
     },
     "execution_count": 37,
     "metadata": {},
     "output_type": "execute_result"
    }
   ],
   "source": [
    "x = new_data[features].values\n",
    "x"
   ],
   "metadata": {
    "collapsed": false,
    "pycharm": {
     "name": "#%%\n"
    }
   }
  },
  {
   "cell_type": "code",
   "execution_count": 38,
   "outputs": [
    {
     "data": {
      "text/plain": "(9049, 94)"
     },
     "execution_count": 38,
     "metadata": {},
     "output_type": "execute_result"
    }
   ],
   "source": [
    "# splitting the data into train and test\n",
    "train_x, test_x, train_y, test_y = train_test_split(x,y,test_size=0.3, random_state=0)\n",
    "test_x.shape"
   ],
   "metadata": {
    "collapsed": false,
    "pycharm": {
     "name": "#%%\n"
    }
   }
  },
  {
   "cell_type": "code",
   "execution_count": 39,
   "outputs": [],
   "source": [
    "# make an instance of model\n",
    "logistic = LogisticRegression(solver='lbfgs', max_iter=36000)"
   ],
   "metadata": {
    "collapsed": false,
    "pycharm": {
     "name": "#%%\n"
    }
   }
  },
  {
   "cell_type": "code",
   "execution_count": 40,
   "outputs": [
    {
     "data": {
      "text/plain": "array([[ 1.12977260e-02, -6.95291759e-02,  4.35425605e-01,\n        -3.72464650e-01, -2.91248909e-01, -1.03703436e-01,\n        -4.95688939e-01,  8.26915672e-02,  2.94492598e-01,\n         6.47856109e-04, -1.24253535e-01, -4.67420057e-02,\n        -7.97655266e-01,  2.76995878e-01,  1.00720083e+00,\n        -9.55606447e-01,  6.97259840e-01, -6.51374027e-01,\n         4.07068185e-02,  2.59962833e-01, -8.47024535e-03,\n        -3.35100625e-01, -1.02888864e-01,  8.40672450e-01,\n        -4.21748469e-03,  2.80846796e-02,  1.48588389e-01,\n        -8.85809821e-01, -7.46137153e-02, -4.26248397e-02,\n         1.31620633e+00, -3.97015217e-01, -9.47244135e-01,\n        -2.50662804e-02, -9.44503796e-01,  1.51676814e-01,\n        -2.96947107e-02,  4.70262307e-01, -2.54203279e-01,\n        -2.50576589e-01,  2.99299822e-01, -2.53518500e-01,\n        -3.74275725e-01, -3.25953922e-01,  4.93683447e-01,\n        -7.80073997e-01, -2.94548684e-01, -1.28364161e+00,\n        -4.24553996e-02, -3.65818734e-01,  1.37691560e-01,\n        -5.41401122e-01, -1.38234176e-01,  1.28260159e+00,\n         2.43342267e-02, -4.29323629e-02,  5.00953107e-02,\n        -3.72629675e-01, -3.18523645e-01, -2.48380049e-02,\n        -9.47553786e-02, -1.03705905e+00, -9.80334796e-02,\n        -1.29997892e-01, -2.88491609e-01, -9.96948141e-01,\n        -1.51912162e-01, -5.28455761e-01, -1.84137272e+00,\n         3.19688464e-04, -3.52195718e-01, -7.07618825e-01,\n         1.61977824e+00, -2.03578363e-02, -5.75741827e-02,\n         1.52093604e-01, -1.96064331e-02, -9.62694970e-01,\n         2.23711439e-02,  1.35772556e-01, -1.09680496e+00,\n         7.50622828e-01,  4.38502243e-02, -3.00949960e-02,\n         1.88480403e+00, -5.05462241e-03, -7.79557049e-02,\n        -1.13041399e+00, -6.35793707e-02, -1.61165946e+00,\n        -6.08351537e-01, -4.10077891e-01, -5.00437968e-01,\n        -8.37722526e-01]])"
     },
     "execution_count": 40,
     "metadata": {},
     "output_type": "execute_result"
    }
   ],
   "source": [
    "# fitting values for x and y\n",
    "logistic.fit(train_x, train_y)\n",
    "logistic.coef_"
   ],
   "metadata": {
    "collapsed": false,
    "pycharm": {
     "name": "#%%\n"
    }
   }
  },
  {
   "cell_type": "code",
   "execution_count": 41,
   "outputs": [
    {
     "data": {
      "text/plain": "array([-3.64726302])"
     },
     "execution_count": 41,
     "metadata": {},
     "output_type": "execute_result"
    }
   ],
   "source": [
    "# intercept value\n",
    "logistic.intercept_"
   ],
   "metadata": {
    "collapsed": false,
    "pycharm": {
     "name": "#%%\n"
    }
   }
  },
  {
   "cell_type": "code",
   "execution_count": 42,
   "outputs": [
    {
     "data": {
      "text/plain": "array([0, 0, 0, ..., 0, 0, 0], dtype=uint8)"
     },
     "execution_count": 42,
     "metadata": {},
     "output_type": "execute_result"
    }
   ],
   "source": [
    "# predicting from test data\n",
    "prediction = logistic.predict(test_x)\n",
    "prediction"
   ],
   "metadata": {
    "collapsed": false,
    "pycharm": {
     "name": "#%%\n"
    }
   }
  },
  {
   "cell_type": "code",
   "execution_count": 43,
   "outputs": [
    {
     "data": {
      "text/plain": "array([[6311,  512],\n       [ 921, 1305]], dtype=int64)"
     },
     "execution_count": 43,
     "metadata": {},
     "output_type": "execute_result"
    }
   ],
   "source": [
    "confusion_matrix = confusion_matrix(test_y, prediction)\n",
    "confusion_matrix"
   ],
   "metadata": {
    "collapsed": false,
    "pycharm": {
     "name": "#%%\n"
    }
   }
  },
  {
   "cell_type": "code",
   "execution_count": 44,
   "outputs": [
    {
     "data": {
      "text/plain": "0.8416399602165985"
     },
     "execution_count": 44,
     "metadata": {},
     "output_type": "execute_result"
    }
   ],
   "source": [
    "accuracy_score = accuracy_score(test_y, prediction)\n",
    "accuracy_score"
   ],
   "metadata": {
    "collapsed": false,
    "pycharm": {
     "name": "#%%\n"
    }
   }
  },
  {
   "cell_type": "code",
   "execution_count": 45,
   "outputs": [
    {
     "name": "stdout",
     "output_type": "stream",
     "text": [
      "Misclassified Samples 1433\n"
     ]
    }
   ],
   "source": [
    "# misclassified prediction\n",
    "print('Misclassified Samples %d'% (test_y != prediction).sum())"
   ],
   "metadata": {
    "collapsed": false,
    "pycharm": {
     "name": "#%%\n"
    }
   }
  },
  {
   "cell_type": "markdown",
   "source": [
    "# Logistic Regression - Removing Insignificant Variables"
   ],
   "metadata": {
    "collapsed": false,
    "pycharm": {
     "name": "#%% md\n"
    }
   }
  },
  {
   "cell_type": "code",
   "execution_count": 46,
   "outputs": [
    {
     "data": {
      "text/plain": "0        0\n1        0\n2        1\n3        0\n4        0\n        ..\n31973    0\n31974    0\n31975    0\n31976    0\n31977    0\nName: SalStat, Length: 30162, dtype: object"
     },
     "execution_count": 46,
     "metadata": {},
     "output_type": "execute_result"
    }
   ],
   "source": [
    "# reindexing the salary status name to 0, 1\n",
    "data2.loc[data2['SalStat'] == \" less than or equal to 50,000\", \"SalStat\"] = 0\n",
    "data2.loc[data2['SalStat'] == \" greater than 50,000\", \"SalStat\"] = 1\n",
    "data2['SalStat']"
   ],
   "metadata": {
    "collapsed": false,
    "pycharm": {
     "name": "#%%\n"
    }
   }
  },
  {
   "cell_type": "code",
   "execution_count": 47,
   "outputs": [
    {
     "data": {
      "text/plain": "       age         EdType        maritalstatus        occupation  \\\n0       45        HS-grad             Divorced      Adm-clerical   \n1       24        HS-grad        Never-married      Armed-Forces   \n2       44   Some-college   Married-civ-spouse    Prof-specialty   \n3       27            9th        Never-married      Craft-repair   \n4       20   Some-college        Never-married             Sales   \n...    ...            ...                  ...               ...   \n31973   34        HS-grad        Never-married   Farming-fishing   \n31974   34   Some-college        Never-married   Protective-serv   \n31975   23   Some-college   Married-civ-spouse      Adm-clerical   \n31976   42   Some-college   Married-civ-spouse      Adm-clerical   \n31977   29      Bachelors        Never-married    Prof-specialty   \n\n          relationship  capitalgain  capitalloss  hoursperweek SalStat  \n0        Not-in-family            0            0            28       0  \n1            Own-child            0            0            40       0  \n2              Husband            0            0            40       1  \n3       Other-relative            0            0            40       0  \n4        Not-in-family            0            0            35       0  \n...                ...          ...          ...           ...     ...  \n31973    Not-in-family          594            0            60       0  \n31974    Not-in-family            0            0            40       0  \n31975          Husband            0            0            40       0  \n31976             Wife            0            0            40       0  \n31977    Not-in-family            0            0            40       0  \n\n[30162 rows x 9 columns]",
      "text/html": "<div>\n<style scoped>\n    .dataframe tbody tr th:only-of-type {\n        vertical-align: middle;\n    }\n\n    .dataframe tbody tr th {\n        vertical-align: top;\n    }\n\n    .dataframe thead th {\n        text-align: right;\n    }\n</style>\n<table border=\"1\" class=\"dataframe\">\n  <thead>\n    <tr style=\"text-align: right;\">\n      <th></th>\n      <th>age</th>\n      <th>EdType</th>\n      <th>maritalstatus</th>\n      <th>occupation</th>\n      <th>relationship</th>\n      <th>capitalgain</th>\n      <th>capitalloss</th>\n      <th>hoursperweek</th>\n      <th>SalStat</th>\n    </tr>\n  </thead>\n  <tbody>\n    <tr>\n      <th>0</th>\n      <td>45</td>\n      <td>HS-grad</td>\n      <td>Divorced</td>\n      <td>Adm-clerical</td>\n      <td>Not-in-family</td>\n      <td>0</td>\n      <td>0</td>\n      <td>28</td>\n      <td>0</td>\n    </tr>\n    <tr>\n      <th>1</th>\n      <td>24</td>\n      <td>HS-grad</td>\n      <td>Never-married</td>\n      <td>Armed-Forces</td>\n      <td>Own-child</td>\n      <td>0</td>\n      <td>0</td>\n      <td>40</td>\n      <td>0</td>\n    </tr>\n    <tr>\n      <th>2</th>\n      <td>44</td>\n      <td>Some-college</td>\n      <td>Married-civ-spouse</td>\n      <td>Prof-specialty</td>\n      <td>Husband</td>\n      <td>0</td>\n      <td>0</td>\n      <td>40</td>\n      <td>1</td>\n    </tr>\n    <tr>\n      <th>3</th>\n      <td>27</td>\n      <td>9th</td>\n      <td>Never-married</td>\n      <td>Craft-repair</td>\n      <td>Other-relative</td>\n      <td>0</td>\n      <td>0</td>\n      <td>40</td>\n      <td>0</td>\n    </tr>\n    <tr>\n      <th>4</th>\n      <td>20</td>\n      <td>Some-college</td>\n      <td>Never-married</td>\n      <td>Sales</td>\n      <td>Not-in-family</td>\n      <td>0</td>\n      <td>0</td>\n      <td>35</td>\n      <td>0</td>\n    </tr>\n    <tr>\n      <th>...</th>\n      <td>...</td>\n      <td>...</td>\n      <td>...</td>\n      <td>...</td>\n      <td>...</td>\n      <td>...</td>\n      <td>...</td>\n      <td>...</td>\n      <td>...</td>\n    </tr>\n    <tr>\n      <th>31973</th>\n      <td>34</td>\n      <td>HS-grad</td>\n      <td>Never-married</td>\n      <td>Farming-fishing</td>\n      <td>Not-in-family</td>\n      <td>594</td>\n      <td>0</td>\n      <td>60</td>\n      <td>0</td>\n    </tr>\n    <tr>\n      <th>31974</th>\n      <td>34</td>\n      <td>Some-college</td>\n      <td>Never-married</td>\n      <td>Protective-serv</td>\n      <td>Not-in-family</td>\n      <td>0</td>\n      <td>0</td>\n      <td>40</td>\n      <td>0</td>\n    </tr>\n    <tr>\n      <th>31975</th>\n      <td>23</td>\n      <td>Some-college</td>\n      <td>Married-civ-spouse</td>\n      <td>Adm-clerical</td>\n      <td>Husband</td>\n      <td>0</td>\n      <td>0</td>\n      <td>40</td>\n      <td>0</td>\n    </tr>\n    <tr>\n      <th>31976</th>\n      <td>42</td>\n      <td>Some-college</td>\n      <td>Married-civ-spouse</td>\n      <td>Adm-clerical</td>\n      <td>Wife</td>\n      <td>0</td>\n      <td>0</td>\n      <td>40</td>\n      <td>0</td>\n    </tr>\n    <tr>\n      <th>31977</th>\n      <td>29</td>\n      <td>Bachelors</td>\n      <td>Never-married</td>\n      <td>Prof-specialty</td>\n      <td>Not-in-family</td>\n      <td>0</td>\n      <td>0</td>\n      <td>40</td>\n      <td>0</td>\n    </tr>\n  </tbody>\n</table>\n<p>30162 rows × 9 columns</p>\n</div>"
     },
     "execution_count": 47,
     "metadata": {},
     "output_type": "execute_result"
    }
   ],
   "source": [
    "cols = ['gender', 'nativecountry', 'race', 'JobType']\n",
    "new_data = data2.drop(cols, axis=1)\n",
    "new_data"
   ],
   "metadata": {
    "collapsed": false,
    "pycharm": {
     "name": "#%%\n"
    }
   }
  },
  {
   "cell_type": "code",
   "execution_count": 48,
   "outputs": [
    {
     "name": "stderr",
     "output_type": "stream",
     "text": [
      "C:\\ProgramData\\Anaconda3\\lib\\site-packages\\pandas\\core\\algorithms.py:798: FutureWarning: In a future version, the Index constructor will not infer numeric dtypes when passed object-dtype sequences (matching Series behavior)\n",
      "  uniques = Index(uniques)\n"
     ]
    },
    {
     "data": {
      "text/plain": "       age  capitalgain  capitalloss  hoursperweek  EdType_ 11th  \\\n0       45            0            0            28             0   \n1       24            0            0            40             0   \n2       44            0            0            40             0   \n3       27            0            0            40             0   \n4       20            0            0            35             0   \n...    ...          ...          ...           ...           ...   \n31973   34          594            0            60             0   \n31974   34            0            0            40             0   \n31975   23            0            0            40             0   \n31976   42            0            0            40             0   \n31977   29            0            0            40             0   \n\n       EdType_ 12th  EdType_ 1st-4th  EdType_ 5th-6th  EdType_ 7th-8th  \\\n0                 0                0                0                0   \n1                 0                0                0                0   \n2                 0                0                0                0   \n3                 0                0                0                0   \n4                 0                0                0                0   \n...             ...              ...              ...              ...   \n31973             0                0                0                0   \n31974             0                0                0                0   \n31975             0                0                0                0   \n31976             0                0                0                0   \n31977             0                0                0                0   \n\n       EdType_ 9th  ...  occupation_ Protective-serv  occupation_ Sales  \\\n0                0  ...                            0                  0   \n1                0  ...                            0                  0   \n2                0  ...                            0                  0   \n3                1  ...                            0                  0   \n4                0  ...                            0                  1   \n...            ...  ...                          ...                ...   \n31973            0  ...                            0                  0   \n31974            0  ...                            1                  0   \n31975            0  ...                            0                  0   \n31976            0  ...                            0                  0   \n31977            0  ...                            0                  0   \n\n       occupation_ Tech-support  occupation_ Transport-moving  \\\n0                             0                             0   \n1                             0                             0   \n2                             0                             0   \n3                             0                             0   \n4                             0                             0   \n...                         ...                           ...   \n31973                         0                             0   \n31974                         0                             0   \n31975                         0                             0   \n31976                         0                             0   \n31977                         0                             0   \n\n       relationship_ Not-in-family  relationship_ Other-relative  \\\n0                                1                             0   \n1                                0                             0   \n2                                0                             0   \n3                                0                             1   \n4                                1                             0   \n...                            ...                           ...   \n31973                            1                             0   \n31974                            1                             0   \n31975                            0                             0   \n31976                            0                             0   \n31977                            1                             0   \n\n       relationship_ Own-child  relationship_ Unmarried  relationship_ Wife  \\\n0                            0                        0                   0   \n1                            1                        0                   0   \n2                            0                        0                   0   \n3                            0                        0                   0   \n4                            0                        0                   0   \n...                        ...                      ...                 ...   \n31973                        0                        0                   0   \n31974                        0                        0                   0   \n31975                        0                        0                   0   \n31976                        0                        0                   1   \n31977                        0                        0                   0   \n\n       SalStat_1  \n0              0  \n1              0  \n2              1  \n3              0  \n4              0  \n...          ...  \n31973          0  \n31974          0  \n31975          0  \n31976          0  \n31977          0  \n\n[30162 rows x 44 columns]",
      "text/html": "<div>\n<style scoped>\n    .dataframe tbody tr th:only-of-type {\n        vertical-align: middle;\n    }\n\n    .dataframe tbody tr th {\n        vertical-align: top;\n    }\n\n    .dataframe thead th {\n        text-align: right;\n    }\n</style>\n<table border=\"1\" class=\"dataframe\">\n  <thead>\n    <tr style=\"text-align: right;\">\n      <th></th>\n      <th>age</th>\n      <th>capitalgain</th>\n      <th>capitalloss</th>\n      <th>hoursperweek</th>\n      <th>EdType_ 11th</th>\n      <th>EdType_ 12th</th>\n      <th>EdType_ 1st-4th</th>\n      <th>EdType_ 5th-6th</th>\n      <th>EdType_ 7th-8th</th>\n      <th>EdType_ 9th</th>\n      <th>...</th>\n      <th>occupation_ Protective-serv</th>\n      <th>occupation_ Sales</th>\n      <th>occupation_ Tech-support</th>\n      <th>occupation_ Transport-moving</th>\n      <th>relationship_ Not-in-family</th>\n      <th>relationship_ Other-relative</th>\n      <th>relationship_ Own-child</th>\n      <th>relationship_ Unmarried</th>\n      <th>relationship_ Wife</th>\n      <th>SalStat_1</th>\n    </tr>\n  </thead>\n  <tbody>\n    <tr>\n      <th>0</th>\n      <td>45</td>\n      <td>0</td>\n      <td>0</td>\n      <td>28</td>\n      <td>0</td>\n      <td>0</td>\n      <td>0</td>\n      <td>0</td>\n      <td>0</td>\n      <td>0</td>\n      <td>...</td>\n      <td>0</td>\n      <td>0</td>\n      <td>0</td>\n      <td>0</td>\n      <td>1</td>\n      <td>0</td>\n      <td>0</td>\n      <td>0</td>\n      <td>0</td>\n      <td>0</td>\n    </tr>\n    <tr>\n      <th>1</th>\n      <td>24</td>\n      <td>0</td>\n      <td>0</td>\n      <td>40</td>\n      <td>0</td>\n      <td>0</td>\n      <td>0</td>\n      <td>0</td>\n      <td>0</td>\n      <td>0</td>\n      <td>...</td>\n      <td>0</td>\n      <td>0</td>\n      <td>0</td>\n      <td>0</td>\n      <td>0</td>\n      <td>0</td>\n      <td>1</td>\n      <td>0</td>\n      <td>0</td>\n      <td>0</td>\n    </tr>\n    <tr>\n      <th>2</th>\n      <td>44</td>\n      <td>0</td>\n      <td>0</td>\n      <td>40</td>\n      <td>0</td>\n      <td>0</td>\n      <td>0</td>\n      <td>0</td>\n      <td>0</td>\n      <td>0</td>\n      <td>...</td>\n      <td>0</td>\n      <td>0</td>\n      <td>0</td>\n      <td>0</td>\n      <td>0</td>\n      <td>0</td>\n      <td>0</td>\n      <td>0</td>\n      <td>0</td>\n      <td>1</td>\n    </tr>\n    <tr>\n      <th>3</th>\n      <td>27</td>\n      <td>0</td>\n      <td>0</td>\n      <td>40</td>\n      <td>0</td>\n      <td>0</td>\n      <td>0</td>\n      <td>0</td>\n      <td>0</td>\n      <td>1</td>\n      <td>...</td>\n      <td>0</td>\n      <td>0</td>\n      <td>0</td>\n      <td>0</td>\n      <td>0</td>\n      <td>1</td>\n      <td>0</td>\n      <td>0</td>\n      <td>0</td>\n      <td>0</td>\n    </tr>\n    <tr>\n      <th>4</th>\n      <td>20</td>\n      <td>0</td>\n      <td>0</td>\n      <td>35</td>\n      <td>0</td>\n      <td>0</td>\n      <td>0</td>\n      <td>0</td>\n      <td>0</td>\n      <td>0</td>\n      <td>...</td>\n      <td>0</td>\n      <td>1</td>\n      <td>0</td>\n      <td>0</td>\n      <td>1</td>\n      <td>0</td>\n      <td>0</td>\n      <td>0</td>\n      <td>0</td>\n      <td>0</td>\n    </tr>\n    <tr>\n      <th>...</th>\n      <td>...</td>\n      <td>...</td>\n      <td>...</td>\n      <td>...</td>\n      <td>...</td>\n      <td>...</td>\n      <td>...</td>\n      <td>...</td>\n      <td>...</td>\n      <td>...</td>\n      <td>...</td>\n      <td>...</td>\n      <td>...</td>\n      <td>...</td>\n      <td>...</td>\n      <td>...</td>\n      <td>...</td>\n      <td>...</td>\n      <td>...</td>\n      <td>...</td>\n      <td>...</td>\n    </tr>\n    <tr>\n      <th>31973</th>\n      <td>34</td>\n      <td>594</td>\n      <td>0</td>\n      <td>60</td>\n      <td>0</td>\n      <td>0</td>\n      <td>0</td>\n      <td>0</td>\n      <td>0</td>\n      <td>0</td>\n      <td>...</td>\n      <td>0</td>\n      <td>0</td>\n      <td>0</td>\n      <td>0</td>\n      <td>1</td>\n      <td>0</td>\n      <td>0</td>\n      <td>0</td>\n      <td>0</td>\n      <td>0</td>\n    </tr>\n    <tr>\n      <th>31974</th>\n      <td>34</td>\n      <td>0</td>\n      <td>0</td>\n      <td>40</td>\n      <td>0</td>\n      <td>0</td>\n      <td>0</td>\n      <td>0</td>\n      <td>0</td>\n      <td>0</td>\n      <td>...</td>\n      <td>1</td>\n      <td>0</td>\n      <td>0</td>\n      <td>0</td>\n      <td>1</td>\n      <td>0</td>\n      <td>0</td>\n      <td>0</td>\n      <td>0</td>\n      <td>0</td>\n    </tr>\n    <tr>\n      <th>31975</th>\n      <td>23</td>\n      <td>0</td>\n      <td>0</td>\n      <td>40</td>\n      <td>0</td>\n      <td>0</td>\n      <td>0</td>\n      <td>0</td>\n      <td>0</td>\n      <td>0</td>\n      <td>...</td>\n      <td>0</td>\n      <td>0</td>\n      <td>0</td>\n      <td>0</td>\n      <td>0</td>\n      <td>0</td>\n      <td>0</td>\n      <td>0</td>\n      <td>0</td>\n      <td>0</td>\n    </tr>\n    <tr>\n      <th>31976</th>\n      <td>42</td>\n      <td>0</td>\n      <td>0</td>\n      <td>40</td>\n      <td>0</td>\n      <td>0</td>\n      <td>0</td>\n      <td>0</td>\n      <td>0</td>\n      <td>0</td>\n      <td>...</td>\n      <td>0</td>\n      <td>0</td>\n      <td>0</td>\n      <td>0</td>\n      <td>0</td>\n      <td>0</td>\n      <td>0</td>\n      <td>0</td>\n      <td>1</td>\n      <td>0</td>\n    </tr>\n    <tr>\n      <th>31977</th>\n      <td>29</td>\n      <td>0</td>\n      <td>0</td>\n      <td>40</td>\n      <td>0</td>\n      <td>0</td>\n      <td>0</td>\n      <td>0</td>\n      <td>0</td>\n      <td>0</td>\n      <td>...</td>\n      <td>0</td>\n      <td>0</td>\n      <td>0</td>\n      <td>0</td>\n      <td>1</td>\n      <td>0</td>\n      <td>0</td>\n      <td>0</td>\n      <td>0</td>\n      <td>0</td>\n    </tr>\n  </tbody>\n</table>\n<p>30162 rows × 44 columns</p>\n</div>"
     },
     "execution_count": 48,
     "metadata": {},
     "output_type": "execute_result"
    }
   ],
   "source": [
    "new_data = pd.get_dummies(new_data, drop_first=True)\n",
    "new_data"
   ],
   "metadata": {
    "collapsed": false,
    "pycharm": {
     "name": "#%%\n"
    }
   }
  },
  {
   "cell_type": "code",
   "execution_count": 49,
   "outputs": [
    {
     "data": {
      "text/plain": "['age',\n 'capitalgain',\n 'capitalloss',\n 'hoursperweek',\n 'EdType_ 11th',\n 'EdType_ 12th',\n 'EdType_ 1st-4th',\n 'EdType_ 5th-6th',\n 'EdType_ 7th-8th',\n 'EdType_ 9th',\n 'EdType_ Assoc-acdm',\n 'EdType_ Assoc-voc',\n 'EdType_ Bachelors',\n 'EdType_ Doctorate',\n 'EdType_ HS-grad',\n 'EdType_ Masters',\n 'EdType_ Preschool',\n 'EdType_ Prof-school',\n 'EdType_ Some-college',\n 'maritalstatus_ Married-AF-spouse',\n 'maritalstatus_ Married-civ-spouse',\n 'maritalstatus_ Married-spouse-absent',\n 'maritalstatus_ Never-married',\n 'maritalstatus_ Separated',\n 'maritalstatus_ Widowed',\n 'occupation_ Armed-Forces',\n 'occupation_ Craft-repair',\n 'occupation_ Exec-managerial',\n 'occupation_ Farming-fishing',\n 'occupation_ Handlers-cleaners',\n 'occupation_ Machine-op-inspct',\n 'occupation_ Other-service',\n 'occupation_ Priv-house-serv',\n 'occupation_ Prof-specialty',\n 'occupation_ Protective-serv',\n 'occupation_ Sales',\n 'occupation_ Tech-support',\n 'occupation_ Transport-moving',\n 'relationship_ Not-in-family',\n 'relationship_ Other-relative',\n 'relationship_ Own-child',\n 'relationship_ Unmarried',\n 'relationship_ Wife',\n 'SalStat_1']"
     },
     "execution_count": 49,
     "metadata": {},
     "output_type": "execute_result"
    }
   ],
   "source": [
    "# storing the column name\n",
    "columns_list_1 = list(new_data.columns)\n",
    "columns_list_1"
   ],
   "metadata": {
    "collapsed": false,
    "pycharm": {
     "name": "#%%\n"
    }
   }
  },
  {
   "cell_type": "code",
   "execution_count": 50,
   "outputs": [
    {
     "data": {
      "text/plain": "['occupation_ Farming-fishing',\n 'occupation_ Prof-specialty',\n 'occupation_ Craft-repair',\n 'EdType_ 1st-4th',\n 'EdType_ 12th',\n 'age',\n 'relationship_ Wife',\n 'EdType_ Some-college',\n 'EdType_ Assoc-voc',\n 'capitalloss',\n 'occupation_ Exec-managerial',\n 'occupation_ Handlers-cleaners',\n 'EdType_ Preschool',\n 'maritalstatus_ Never-married',\n 'EdType_ Bachelors',\n 'hoursperweek',\n 'relationship_ Own-child',\n 'capitalgain',\n 'maritalstatus_ Separated',\n 'EdType_ Prof-school',\n 'occupation_ Sales',\n 'relationship_ Not-in-family',\n 'maritalstatus_ Married-spouse-absent',\n 'EdType_ Masters',\n 'EdType_ 5th-6th',\n 'EdType_ 11th',\n 'EdType_ Assoc-acdm',\n 'EdType_ 9th',\n 'maritalstatus_ Widowed',\n 'occupation_ Other-service',\n 'maritalstatus_ Married-civ-spouse',\n 'occupation_ Armed-Forces',\n 'occupation_ Protective-serv',\n 'EdType_ Doctorate',\n 'EdType_ HS-grad',\n 'maritalstatus_ Married-AF-spouse',\n 'relationship_ Other-relative',\n 'occupation_ Transport-moving',\n 'occupation_ Priv-house-serv',\n 'occupation_ Tech-support',\n 'relationship_ Unmarried',\n 'EdType_ 7th-8th',\n 'occupation_ Machine-op-inspct']"
     },
     "execution_count": 50,
     "metadata": {},
     "output_type": "execute_result"
    }
   ],
   "source": [
    "# separating the input names from data\n",
    "features_1 = list(set(columns_list_1) - set(['SalStat_1']))\n",
    "features_1"
   ],
   "metadata": {
    "collapsed": false,
    "pycharm": {
     "name": "#%%\n"
    }
   }
  },
  {
   "cell_type": "code",
   "execution_count": 51,
   "outputs": [
    {
     "data": {
      "text/plain": "array([0, 0, 1, ..., 0, 0, 0], dtype=uint8)"
     },
     "execution_count": 51,
     "metadata": {},
     "output_type": "execute_result"
    }
   ],
   "source": [
    "# storing the output values in y\n",
    "y1 = new_data['SalStat_1'].values\n",
    "y1"
   ],
   "metadata": {
    "collapsed": false,
    "pycharm": {
     "name": "#%%\n"
    }
   }
  },
  {
   "cell_type": "code",
   "execution_count": 52,
   "outputs": [
    {
     "data": {
      "text/plain": "array([[0, 0, 0, ..., 0, 0, 0],\n       [0, 0, 0, ..., 0, 0, 0],\n       [0, 1, 0, ..., 0, 0, 0],\n       ...,\n       [0, 0, 0, ..., 0, 0, 0],\n       [0, 0, 0, ..., 0, 0, 0],\n       [0, 1, 0, ..., 0, 0, 0]], dtype=int64)"
     },
     "execution_count": 52,
     "metadata": {},
     "output_type": "execute_result"
    }
   ],
   "source": [
    "# Storing the values from input features\n",
    "x1 = new_data[features_1].values\n",
    "x1"
   ],
   "metadata": {
    "collapsed": false,
    "pycharm": {
     "name": "#%%\n"
    }
   }
  },
  {
   "cell_type": "code",
   "execution_count": 53,
   "outputs": [],
   "source": [
    "# splitting the data into train and test\n",
    "train_x1, test_x1, train_y1, test_y1 = train_test_split(x1,y1,test_size=0.3, random_state=0)"
   ],
   "metadata": {
    "collapsed": false,
    "pycharm": {
     "name": "#%%\n"
    }
   }
  },
  {
   "cell_type": "code",
   "execution_count": 54,
   "outputs": [],
   "source": [
    "logistic1 = LogisticRegression(solver='lbfgs', max_iter=100000)"
   ],
   "metadata": {
    "collapsed": false,
    "pycharm": {
     "name": "#%%\n"
    }
   }
  },
  {
   "cell_type": "code",
   "execution_count": 55,
   "outputs": [
    {
     "data": {
      "text/plain": "LogisticRegression(max_iter=100000)"
     },
     "execution_count": 55,
     "metadata": {},
     "output_type": "execute_result"
    }
   ],
   "source": [
    "# fitting value for x and y\n",
    "logistic1.fit(train_x1, train_y1)"
   ],
   "metadata": {
    "collapsed": false,
    "pycharm": {
     "name": "#%%\n"
    }
   }
  },
  {
   "cell_type": "code",
   "execution_count": 56,
   "outputs": [
    {
     "data": {
      "text/plain": "array([0, 0, 0, ..., 0, 0, 0], dtype=uint8)"
     },
     "execution_count": 56,
     "metadata": {},
     "output_type": "execute_result"
    }
   ],
   "source": [
    "# prediction from test data\n",
    "prediction1 = logistic1.predict(test_x1)\n",
    "prediction1"
   ],
   "metadata": {
    "collapsed": false,
    "pycharm": {
     "name": "#%%\n"
    }
   }
  },
  {
   "cell_type": "code",
   "execution_count": 60,
   "outputs": [
    {
     "ename": "TypeError",
     "evalue": "'numpy.float64' object is not callable",
     "output_type": "error",
     "traceback": [
      "\u001B[1;31m---------------------------------------------------------------------------\u001B[0m",
      "\u001B[1;31mTypeError\u001B[0m                                 Traceback (most recent call last)",
      "Input \u001B[1;32mIn [60]\u001B[0m, in \u001B[0;36m<cell line: 2>\u001B[1;34m()\u001B[0m\n\u001B[0;32m      1\u001B[0m \u001B[38;5;66;03m# calculating the accuracy\u001B[39;00m\n\u001B[1;32m----> 2\u001B[0m \u001B[43maccuracy_score\u001B[49m\u001B[43m(\u001B[49m\u001B[43mtest_y1\u001B[49m\u001B[43m,\u001B[49m\u001B[43m \u001B[49m\u001B[43mprediction1\u001B[49m\u001B[43m)\u001B[49m\n",
      "\u001B[1;31mTypeError\u001B[0m: 'numpy.float64' object is not callable"
     ]
    }
   ],
   "source": [
    "# calculating the accuracy\n",
    "accuracy_score(test_y1, prediction1)"
   ],
   "metadata": {
    "collapsed": false,
    "pycharm": {
     "name": "#%%\n"
    }
   }
  },
  {
   "cell_type": "code",
   "execution_count": 61,
   "outputs": [
    {
     "ename": "ValueError",
     "evalue": "incomplete format",
     "output_type": "error",
     "traceback": [
      "\u001B[1;31m---------------------------------------------------------------------------\u001B[0m",
      "\u001B[1;31mValueError\u001B[0m                                Traceback (most recent call last)",
      "Input \u001B[1;32mIn [61]\u001B[0m, in \u001B[0;36m<cell line: 1>\u001B[1;34m()\u001B[0m\n\u001B[1;32m----> 1\u001B[0m \u001B[38;5;28mprint\u001B[39m(\u001B[38;5;124;43m\"\u001B[39;49m\u001B[38;5;124;43mMisclassified sample1: \u001B[39;49m\u001B[38;5;124;43m%\u001B[39;49m\u001B[38;5;124;43m\"\u001B[39;49m\u001B[43m \u001B[49m\u001B[38;5;241;43m%\u001B[39;49m\u001B[43m \u001B[49m\u001B[43m(\u001B[49m\u001B[43mtest_y1\u001B[49m\u001B[43m \u001B[49m\u001B[38;5;241;43m!=\u001B[39;49m\u001B[43m \u001B[49m\u001B[43mprediction1\u001B[49m\u001B[43m)\u001B[49m\u001B[38;5;241;43m.\u001B[39;49m\u001B[43msum\u001B[49m\u001B[43m(\u001B[49m\u001B[43m)\u001B[49m)\n",
      "\u001B[1;31mValueError\u001B[0m: incomplete format"
     ]
    }
   ],
   "source": [
    "print(\"Misclassified sample1: %\" % (test_y1 != prediction1).sum())"
   ],
   "metadata": {
    "collapsed": false,
    "pycharm": {
     "name": "#%%\n"
    }
   }
  },
  {
   "cell_type": "code",
   "execution_count": null,
   "outputs": [],
   "source": [],
   "metadata": {
    "collapsed": false,
    "pycharm": {
     "name": "#%%\n"
    }
   }
  }
 ],
 "metadata": {
  "kernelspec": {
   "display_name": "Python 3",
   "language": "python",
   "name": "python3"
  },
  "language_info": {
   "codemirror_mode": {
    "name": "ipython",
    "version": 2
   },
   "file_extension": ".py",
   "mimetype": "text/x-python",
   "name": "python",
   "nbconvert_exporter": "python",
   "pygments_lexer": "ipython2",
   "version": "2.7.6"
  }
 },
 "nbformat": 4,
 "nbformat_minor": 0
}