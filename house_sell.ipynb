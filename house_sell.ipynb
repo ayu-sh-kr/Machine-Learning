{
 "cells": [
  {
   "cell_type": "code",
   "execution_count": 59,
   "metadata": {
    "collapsed": true,
    "pycharm": {
     "name": "#%%\n"
    }
   },
   "outputs": [],
   "source": [
    "import pandas as pd\n",
    "import numpy as np\n",
    "import matplotlib.pyplot as plt\n",
    "import seaborn as sns\n",
    "\n",
    "from sklearn import linear_model"
   ]
  },
  {
   "cell_type": "code",
   "execution_count": 71,
   "outputs": [
    {
     "data": {
      "text/plain": "    Price  Unnamed: 1    Area\n0    2104           3  399900\n1    1600           3  329900\n2    2400           3  369000\n3    1416           2  232000\n4    3000           4  539900\n5    1985           4  299900\n6    1534           3  314900\n7    1427           3  198999\n8    1380           3  212000\n9    1494           3  242500\n10   1940           4  239999\n11   2000           3  347000\n12   1890           3  329999\n13   4478           5  699900\n14   1268           3  259900\n15   2300           4  449900\n16   1320           2  299900\n17   1236           3  199900\n18   2609           4  499998\n19   3031           4  599000\n20   1767           3  252900\n21   1888           2  255000\n22   1604           3  242900\n23   1962           4  259900\n24   3890           3  573900\n25   1100           3  249900\n26   1458           3  464500\n27   2526           3  469000\n28   2200           3  475000\n29   2637           3  299900\n30   1839           2  349900\n31   1000           1  169900\n32   2040           4  314900\n33   3137           3  579900\n34   1811           4  285900\n35   1437           3  249900\n36   1239           3  229900\n37   2132           4  345000\n38   4215           4  549000\n39   2162           4  287000\n40   1664           2  368500\n41   2238           3  329900\n42   2567           4  314000\n43   1200           3  299000\n44    852           2  179900\n45   1852           4  299900\n46   1203           3  239500",
      "text/html": "<div>\n<style scoped>\n    .dataframe tbody tr th:only-of-type {\n        vertical-align: middle;\n    }\n\n    .dataframe tbody tr th {\n        vertical-align: top;\n    }\n\n    .dataframe thead th {\n        text-align: right;\n    }\n</style>\n<table border=\"1\" class=\"dataframe\">\n  <thead>\n    <tr style=\"text-align: right;\">\n      <th></th>\n      <th>Price</th>\n      <th>Unnamed: 1</th>\n      <th>Area</th>\n    </tr>\n  </thead>\n  <tbody>\n    <tr>\n      <th>0</th>\n      <td>2104</td>\n      <td>3</td>\n      <td>399900</td>\n    </tr>\n    <tr>\n      <th>1</th>\n      <td>1600</td>\n      <td>3</td>\n      <td>329900</td>\n    </tr>\n    <tr>\n      <th>2</th>\n      <td>2400</td>\n      <td>3</td>\n      <td>369000</td>\n    </tr>\n    <tr>\n      <th>3</th>\n      <td>1416</td>\n      <td>2</td>\n      <td>232000</td>\n    </tr>\n    <tr>\n      <th>4</th>\n      <td>3000</td>\n      <td>4</td>\n      <td>539900</td>\n    </tr>\n    <tr>\n      <th>5</th>\n      <td>1985</td>\n      <td>4</td>\n      <td>299900</td>\n    </tr>\n    <tr>\n      <th>6</th>\n      <td>1534</td>\n      <td>3</td>\n      <td>314900</td>\n    </tr>\n    <tr>\n      <th>7</th>\n      <td>1427</td>\n      <td>3</td>\n      <td>198999</td>\n    </tr>\n    <tr>\n      <th>8</th>\n      <td>1380</td>\n      <td>3</td>\n      <td>212000</td>\n    </tr>\n    <tr>\n      <th>9</th>\n      <td>1494</td>\n      <td>3</td>\n      <td>242500</td>\n    </tr>\n    <tr>\n      <th>10</th>\n      <td>1940</td>\n      <td>4</td>\n      <td>239999</td>\n    </tr>\n    <tr>\n      <th>11</th>\n      <td>2000</td>\n      <td>3</td>\n      <td>347000</td>\n    </tr>\n    <tr>\n      <th>12</th>\n      <td>1890</td>\n      <td>3</td>\n      <td>329999</td>\n    </tr>\n    <tr>\n      <th>13</th>\n      <td>4478</td>\n      <td>5</td>\n      <td>699900</td>\n    </tr>\n    <tr>\n      <th>14</th>\n      <td>1268</td>\n      <td>3</td>\n      <td>259900</td>\n    </tr>\n    <tr>\n      <th>15</th>\n      <td>2300</td>\n      <td>4</td>\n      <td>449900</td>\n    </tr>\n    <tr>\n      <th>16</th>\n      <td>1320</td>\n      <td>2</td>\n      <td>299900</td>\n    </tr>\n    <tr>\n      <th>17</th>\n      <td>1236</td>\n      <td>3</td>\n      <td>199900</td>\n    </tr>\n    <tr>\n      <th>18</th>\n      <td>2609</td>\n      <td>4</td>\n      <td>499998</td>\n    </tr>\n    <tr>\n      <th>19</th>\n      <td>3031</td>\n      <td>4</td>\n      <td>599000</td>\n    </tr>\n    <tr>\n      <th>20</th>\n      <td>1767</td>\n      <td>3</td>\n      <td>252900</td>\n    </tr>\n    <tr>\n      <th>21</th>\n      <td>1888</td>\n      <td>2</td>\n      <td>255000</td>\n    </tr>\n    <tr>\n      <th>22</th>\n      <td>1604</td>\n      <td>3</td>\n      <td>242900</td>\n    </tr>\n    <tr>\n      <th>23</th>\n      <td>1962</td>\n      <td>4</td>\n      <td>259900</td>\n    </tr>\n    <tr>\n      <th>24</th>\n      <td>3890</td>\n      <td>3</td>\n      <td>573900</td>\n    </tr>\n    <tr>\n      <th>25</th>\n      <td>1100</td>\n      <td>3</td>\n      <td>249900</td>\n    </tr>\n    <tr>\n      <th>26</th>\n      <td>1458</td>\n      <td>3</td>\n      <td>464500</td>\n    </tr>\n    <tr>\n      <th>27</th>\n      <td>2526</td>\n      <td>3</td>\n      <td>469000</td>\n    </tr>\n    <tr>\n      <th>28</th>\n      <td>2200</td>\n      <td>3</td>\n      <td>475000</td>\n    </tr>\n    <tr>\n      <th>29</th>\n      <td>2637</td>\n      <td>3</td>\n      <td>299900</td>\n    </tr>\n    <tr>\n      <th>30</th>\n      <td>1839</td>\n      <td>2</td>\n      <td>349900</td>\n    </tr>\n    <tr>\n      <th>31</th>\n      <td>1000</td>\n      <td>1</td>\n      <td>169900</td>\n    </tr>\n    <tr>\n      <th>32</th>\n      <td>2040</td>\n      <td>4</td>\n      <td>314900</td>\n    </tr>\n    <tr>\n      <th>33</th>\n      <td>3137</td>\n      <td>3</td>\n      <td>579900</td>\n    </tr>\n    <tr>\n      <th>34</th>\n      <td>1811</td>\n      <td>4</td>\n      <td>285900</td>\n    </tr>\n    <tr>\n      <th>35</th>\n      <td>1437</td>\n      <td>3</td>\n      <td>249900</td>\n    </tr>\n    <tr>\n      <th>36</th>\n      <td>1239</td>\n      <td>3</td>\n      <td>229900</td>\n    </tr>\n    <tr>\n      <th>37</th>\n      <td>2132</td>\n      <td>4</td>\n      <td>345000</td>\n    </tr>\n    <tr>\n      <th>38</th>\n      <td>4215</td>\n      <td>4</td>\n      <td>549000</td>\n    </tr>\n    <tr>\n      <th>39</th>\n      <td>2162</td>\n      <td>4</td>\n      <td>287000</td>\n    </tr>\n    <tr>\n      <th>40</th>\n      <td>1664</td>\n      <td>2</td>\n      <td>368500</td>\n    </tr>\n    <tr>\n      <th>41</th>\n      <td>2238</td>\n      <td>3</td>\n      <td>329900</td>\n    </tr>\n    <tr>\n      <th>42</th>\n      <td>2567</td>\n      <td>4</td>\n      <td>314000</td>\n    </tr>\n    <tr>\n      <th>43</th>\n      <td>1200</td>\n      <td>3</td>\n      <td>299000</td>\n    </tr>\n    <tr>\n      <th>44</th>\n      <td>852</td>\n      <td>2</td>\n      <td>179900</td>\n    </tr>\n    <tr>\n      <th>45</th>\n      <td>1852</td>\n      <td>4</td>\n      <td>299900</td>\n    </tr>\n    <tr>\n      <th>46</th>\n      <td>1203</td>\n      <td>3</td>\n      <td>239500</td>\n    </tr>\n  </tbody>\n</table>\n</div>"
     },
     "execution_count": 71,
     "metadata": {},
     "output_type": "execute_result"
    }
   ],
   "source": [
    "data1 = pd.read_csv('data.csv')\n",
    "data1"
   ],
   "metadata": {
    "collapsed": false,
    "pycharm": {
     "name": "#%%\n"
    }
   }
  },
  {
   "cell_type": "code",
   "execution_count": 75,
   "outputs": [
    {
     "data": {
      "text/plain": "    Price    Area\n0    2104  399900\n1    1600  329900\n2    2400  369000\n3    1416  232000\n4    3000  539900\n5    1985  299900\n6    1534  314900\n7    1427  198999\n8    1380  212000\n9    1494  242500\n10   1940  239999\n11   2000  347000\n12   1890  329999\n13   4478  699900\n14   1268  259900\n15   2300  449900\n16   1320  299900\n17   1236  199900\n18   2609  499998\n19   3031  599000\n20   1767  252900\n21   1888  255000\n22   1604  242900\n23   1962  259900\n24   3890  573900\n25   1100  249900\n26   1458  464500\n27   2526  469000\n28   2200  475000\n29   2637  299900\n30   1839  349900\n31   1000  169900\n32   2040  314900\n33   3137  579900\n34   1811  285900\n35   1437  249900\n36   1239  229900\n37   2132  345000\n38   4215  549000\n39   2162  287000\n40   1664  368500\n41   2238  329900\n42   2567  314000\n43   1200  299000\n44    852  179900\n45   1852  299900\n46   1203  239500",
      "text/html": "<div>\n<style scoped>\n    .dataframe tbody tr th:only-of-type {\n        vertical-align: middle;\n    }\n\n    .dataframe tbody tr th {\n        vertical-align: top;\n    }\n\n    .dataframe thead th {\n        text-align: right;\n    }\n</style>\n<table border=\"1\" class=\"dataframe\">\n  <thead>\n    <tr style=\"text-align: right;\">\n      <th></th>\n      <th>Price</th>\n      <th>Area</th>\n    </tr>\n  </thead>\n  <tbody>\n    <tr>\n      <th>0</th>\n      <td>2104</td>\n      <td>399900</td>\n    </tr>\n    <tr>\n      <th>1</th>\n      <td>1600</td>\n      <td>329900</td>\n    </tr>\n    <tr>\n      <th>2</th>\n      <td>2400</td>\n      <td>369000</td>\n    </tr>\n    <tr>\n      <th>3</th>\n      <td>1416</td>\n      <td>232000</td>\n    </tr>\n    <tr>\n      <th>4</th>\n      <td>3000</td>\n      <td>539900</td>\n    </tr>\n    <tr>\n      <th>5</th>\n      <td>1985</td>\n      <td>299900</td>\n    </tr>\n    <tr>\n      <th>6</th>\n      <td>1534</td>\n      <td>314900</td>\n    </tr>\n    <tr>\n      <th>7</th>\n      <td>1427</td>\n      <td>198999</td>\n    </tr>\n    <tr>\n      <th>8</th>\n      <td>1380</td>\n      <td>212000</td>\n    </tr>\n    <tr>\n      <th>9</th>\n      <td>1494</td>\n      <td>242500</td>\n    </tr>\n    <tr>\n      <th>10</th>\n      <td>1940</td>\n      <td>239999</td>\n    </tr>\n    <tr>\n      <th>11</th>\n      <td>2000</td>\n      <td>347000</td>\n    </tr>\n    <tr>\n      <th>12</th>\n      <td>1890</td>\n      <td>329999</td>\n    </tr>\n    <tr>\n      <th>13</th>\n      <td>4478</td>\n      <td>699900</td>\n    </tr>\n    <tr>\n      <th>14</th>\n      <td>1268</td>\n      <td>259900</td>\n    </tr>\n    <tr>\n      <th>15</th>\n      <td>2300</td>\n      <td>449900</td>\n    </tr>\n    <tr>\n      <th>16</th>\n      <td>1320</td>\n      <td>299900</td>\n    </tr>\n    <tr>\n      <th>17</th>\n      <td>1236</td>\n      <td>199900</td>\n    </tr>\n    <tr>\n      <th>18</th>\n      <td>2609</td>\n      <td>499998</td>\n    </tr>\n    <tr>\n      <th>19</th>\n      <td>3031</td>\n      <td>599000</td>\n    </tr>\n    <tr>\n      <th>20</th>\n      <td>1767</td>\n      <td>252900</td>\n    </tr>\n    <tr>\n      <th>21</th>\n      <td>1888</td>\n      <td>255000</td>\n    </tr>\n    <tr>\n      <th>22</th>\n      <td>1604</td>\n      <td>242900</td>\n    </tr>\n    <tr>\n      <th>23</th>\n      <td>1962</td>\n      <td>259900</td>\n    </tr>\n    <tr>\n      <th>24</th>\n      <td>3890</td>\n      <td>573900</td>\n    </tr>\n    <tr>\n      <th>25</th>\n      <td>1100</td>\n      <td>249900</td>\n    </tr>\n    <tr>\n      <th>26</th>\n      <td>1458</td>\n      <td>464500</td>\n    </tr>\n    <tr>\n      <th>27</th>\n      <td>2526</td>\n      <td>469000</td>\n    </tr>\n    <tr>\n      <th>28</th>\n      <td>2200</td>\n      <td>475000</td>\n    </tr>\n    <tr>\n      <th>29</th>\n      <td>2637</td>\n      <td>299900</td>\n    </tr>\n    <tr>\n      <th>30</th>\n      <td>1839</td>\n      <td>349900</td>\n    </tr>\n    <tr>\n      <th>31</th>\n      <td>1000</td>\n      <td>169900</td>\n    </tr>\n    <tr>\n      <th>32</th>\n      <td>2040</td>\n      <td>314900</td>\n    </tr>\n    <tr>\n      <th>33</th>\n      <td>3137</td>\n      <td>579900</td>\n    </tr>\n    <tr>\n      <th>34</th>\n      <td>1811</td>\n      <td>285900</td>\n    </tr>\n    <tr>\n      <th>35</th>\n      <td>1437</td>\n      <td>249900</td>\n    </tr>\n    <tr>\n      <th>36</th>\n      <td>1239</td>\n      <td>229900</td>\n    </tr>\n    <tr>\n      <th>37</th>\n      <td>2132</td>\n      <td>345000</td>\n    </tr>\n    <tr>\n      <th>38</th>\n      <td>4215</td>\n      <td>549000</td>\n    </tr>\n    <tr>\n      <th>39</th>\n      <td>2162</td>\n      <td>287000</td>\n    </tr>\n    <tr>\n      <th>40</th>\n      <td>1664</td>\n      <td>368500</td>\n    </tr>\n    <tr>\n      <th>41</th>\n      <td>2238</td>\n      <td>329900</td>\n    </tr>\n    <tr>\n      <th>42</th>\n      <td>2567</td>\n      <td>314000</td>\n    </tr>\n    <tr>\n      <th>43</th>\n      <td>1200</td>\n      <td>299000</td>\n    </tr>\n    <tr>\n      <th>44</th>\n      <td>852</td>\n      <td>179900</td>\n    </tr>\n    <tr>\n      <th>45</th>\n      <td>1852</td>\n      <td>299900</td>\n    </tr>\n    <tr>\n      <th>46</th>\n      <td>1203</td>\n      <td>239500</td>\n    </tr>\n  </tbody>\n</table>\n</div>"
     },
     "execution_count": 75,
     "metadata": {},
     "output_type": "execute_result"
    }
   ],
   "source": [
    "data2 = data1.copy(deep=True)\n",
    "data2.drop(columns='Unnamed: 1')"
   ],
   "metadata": {
    "collapsed": false,
    "pycharm": {
     "name": "#%%\n"
    }
   }
  },
  {
   "cell_type": "code",
   "execution_count": 76,
   "outputs": [
    {
     "data": {
      "text/plain": "<Figure size 432x288 with 1 Axes>",
      "image/png": "[encoded data removed]"
     },
     "metadata": {},
     "output_type": "display_data"
    }
   ],
   "source": [
    "sns.set(style = \"darkgrid\")\n",
    "sns.regplot(x = data2['Area'], y = data2['Price'], fit_reg=False)\n",
    "plt.show()"
   ],
   "metadata": {
    "collapsed": false,
    "pycharm": {
     "name": "#%%\n"
    }
   }
  },
  {
   "cell_type": "code",
   "execution_count": 78,
   "outputs": [
    {
     "data": {
      "text/plain": "<Figure size 432x288 with 1 Axes>",
      "image/png": "[encoded data removed]"
     },
     "metadata": {},
     "output_type": "display_data"
    }
   ],
   "source": [
    "sns.histplot(data2['Price'], bins=7, kde=True)\n",
    "plt.show()"
   ],
   "metadata": {
    "collapsed": false,
    "pycharm": {
     "name": "#%%\n"
    }
   }
  },
  {
   "cell_type": "code",
   "execution_count": 84,
   "outputs": [],
   "source": [
    "reg = linear_model.LinearRegression()"
   ],
   "metadata": {
    "collapsed": false,
    "pycharm": {
     "name": "#%%\n"
    }
   }
  },
  {
   "cell_type": "code",
   "execution_count": 87,
   "outputs": [
    {
     "data": {
      "text/plain": "LinearRegression()"
     },
     "execution_count": 87,
     "metadata": {},
     "output_type": "execute_result"
    }
   ],
   "source": [
    "reg.fit(data2[['Area']], data2[['Price']])"
   ],
   "metadata": {
    "collapsed": false,
    "pycharm": {
     "name": "#%%\n"
    }
   }
  },
  {
   "cell_type": "code",
   "execution_count": 90,
   "outputs": [
    {
     "name": "stderr",
     "output_type": "stream",
     "text": [
      "C:\\ProgramData\\Anaconda3\\lib\\site-packages\\sklearn\\base.py:450: UserWarning: X does not have valid feature names, but LinearRegression was fitted with feature names\n",
      "  warnings.warn(\n"
     ]
    },
    {
     "data": {
      "text/plain": "array([[2153.30607477]])"
     },
     "execution_count": 90,
     "metadata": {},
     "output_type": "execute_result"
    }
   ],
   "source": [
    "reg.predict([[368500]])"
   ],
   "metadata": {
    "collapsed": false,
    "pycharm": {
     "name": "#%%\n"
    }
   }
  },
  {
   "cell_type": "code",
   "execution_count": 92,
   "outputs": [
    {
     "data": {
      "text/plain": "array([[0.00543395]])"
     },
     "execution_count": 92,
     "metadata": {},
     "output_type": "execute_result"
    }
   ],
   "source": [
    "reg.coef_"
   ],
   "metadata": {
    "collapsed": false,
    "pycharm": {
     "name": "#%%\n"
    }
   }
  },
  {
   "cell_type": "code",
   "execution_count": 94,
   "outputs": [
    {
     "data": {
      "text/plain": "array([150.8952347])"
     },
     "execution_count": 94,
     "metadata": {},
     "output_type": "execute_result"
    }
   ],
   "source": [
    "reg.intercept_"
   ],
   "metadata": {
    "collapsed": false,
    "pycharm": {
     "name": "#%%\n"
    }
   }
  },
  {
   "cell_type": "code",
   "execution_count": null,
   "outputs": [],
   "source": [
    "np.array()"
   ],
   "metadata": {
    "collapsed": false,
    "pycharm": {
     "name": "#%%\n"
    }
   }
  }
 ],
 "metadata": {
  "kernelspec": {
   "display_name": "Python 3",
   "language": "python",
   "name": "python3"
  },
  "language_info": {
   "codemirror_mode": {
    "name": "ipython",
    "version": 2
   },
   "file_extension": ".py",
   "mimetype": "text/x-python",
   "name": "python",
   "nbconvert_exporter": "python",
   "pygments_lexer": "ipython2",
   "version": "2.7.6"
  }
 },
 "nbformat": 4,
 "nbformat_minor": 0
}